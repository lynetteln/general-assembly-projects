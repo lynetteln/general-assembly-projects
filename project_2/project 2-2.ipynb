{
 "cells": [
  {
   "cell_type": "code",
   "execution_count": 2,
   "metadata": {},
   "outputs": [],
   "source": [
    "import pandas as pd\n",
    "import numpy as np\n",
    "import matplotlib.pyplot as plt\n",
    "%matplotlib inline\n",
    "import seaborn as sns\n",
    "from sklearn.linear_model import LinearRegression, LassoCV, RidgeCV\n",
    "from sklearn.model_selection import (\n",
    "    train_test_split, \n",
    "    cross_val_score,\n",
    "    cross_val_predict,\n",
    "    KFold)\n",
    "from sklearn.preprocessing import (\n",
    "    StandardScaler,\n",
    "    PolynomialFeatures)\n",
    "from sklearn.metrics import mean_squared_error, r2_score\n",
    "from sklearn.model_selection import cross_val_score\n",
    "from sklearn.linear_model import LinearRegression, Ridge, RidgeCV\n",
    "from sklearn.linear_model import Lasso, LassoCV\n",
    "from sklearn.linear_model import ElasticNet\n",
    "from sklearn.linear_model import Lasso"
   ]
  },
  {
   "cell_type": "code",
   "execution_count": 3,
   "metadata": {},
   "outputs": [],
   "source": [
    "df = pd.read_csv('./datasets/train_cleaned.csv')"
   ]
  },
  {
   "cell_type": "code",
   "execution_count": 4,
   "metadata": {},
   "outputs": [],
   "source": [
    "df.drop(columns= 'Unnamed: 0', inplace=True)"
   ]
  },
  {
   "cell_type": "code",
   "execution_count": 5,
   "metadata": {},
   "outputs": [
    {
     "data": {
      "text/html": [
       "<div>\n",
       "<style scoped>\n",
       "    .dataframe tbody tr th:only-of-type {\n",
       "        vertical-align: middle;\n",
       "    }\n",
       "\n",
       "    .dataframe tbody tr th {\n",
       "        vertical-align: top;\n",
       "    }\n",
       "\n",
       "    .dataframe thead th {\n",
       "        text-align: right;\n",
       "    }\n",
       "</style>\n",
       "<table border=\"1\" class=\"dataframe\">\n",
       "  <thead>\n",
       "    <tr style=\"text-align: right;\">\n",
       "      <th></th>\n",
       "      <th>id</th>\n",
       "      <th>ms_subclass</th>\n",
       "      <th>ms_zoning</th>\n",
       "      <th>lot_frontage</th>\n",
       "      <th>lot_area</th>\n",
       "      <th>street</th>\n",
       "      <th>lot_shape</th>\n",
       "      <th>land_contour</th>\n",
       "      <th>utilities</th>\n",
       "      <th>lot_config</th>\n",
       "      <th>...</th>\n",
       "      <th>wood_deck_sf</th>\n",
       "      <th>open_porch_sf</th>\n",
       "      <th>enclosed_porch</th>\n",
       "      <th>3ssn_porch</th>\n",
       "      <th>screen_porch</th>\n",
       "      <th>misc_val</th>\n",
       "      <th>mo_sold</th>\n",
       "      <th>yr_sold</th>\n",
       "      <th>sale_type</th>\n",
       "      <th>saleprice</th>\n",
       "    </tr>\n",
       "  </thead>\n",
       "  <tbody>\n",
       "    <tr>\n",
       "      <th>0</th>\n",
       "      <td>109</td>\n",
       "      <td>60</td>\n",
       "      <td>RL</td>\n",
       "      <td>0.0</td>\n",
       "      <td>13517</td>\n",
       "      <td>Pave</td>\n",
       "      <td>3</td>\n",
       "      <td>Lvl</td>\n",
       "      <td>4.0</td>\n",
       "      <td>CulDSac</td>\n",
       "      <td>...</td>\n",
       "      <td>0</td>\n",
       "      <td>44</td>\n",
       "      <td>0</td>\n",
       "      <td>0</td>\n",
       "      <td>0</td>\n",
       "      <td>0</td>\n",
       "      <td>3</td>\n",
       "      <td>2010</td>\n",
       "      <td>WD</td>\n",
       "      <td>130500</td>\n",
       "    </tr>\n",
       "    <tr>\n",
       "      <th>1</th>\n",
       "      <td>544</td>\n",
       "      <td>60</td>\n",
       "      <td>RL</td>\n",
       "      <td>43.0</td>\n",
       "      <td>11492</td>\n",
       "      <td>Pave</td>\n",
       "      <td>3</td>\n",
       "      <td>Lvl</td>\n",
       "      <td>4.0</td>\n",
       "      <td>CulDSac</td>\n",
       "      <td>...</td>\n",
       "      <td>0</td>\n",
       "      <td>74</td>\n",
       "      <td>0</td>\n",
       "      <td>0</td>\n",
       "      <td>0</td>\n",
       "      <td>0</td>\n",
       "      <td>4</td>\n",
       "      <td>2009</td>\n",
       "      <td>WD</td>\n",
       "      <td>220000</td>\n",
       "    </tr>\n",
       "    <tr>\n",
       "      <th>2</th>\n",
       "      <td>153</td>\n",
       "      <td>20</td>\n",
       "      <td>RL</td>\n",
       "      <td>68.0</td>\n",
       "      <td>7922</td>\n",
       "      <td>Pave</td>\n",
       "      <td>4</td>\n",
       "      <td>Lvl</td>\n",
       "      <td>4.0</td>\n",
       "      <td>Inside</td>\n",
       "      <td>...</td>\n",
       "      <td>0</td>\n",
       "      <td>52</td>\n",
       "      <td>0</td>\n",
       "      <td>0</td>\n",
       "      <td>0</td>\n",
       "      <td>0</td>\n",
       "      <td>1</td>\n",
       "      <td>2010</td>\n",
       "      <td>WD</td>\n",
       "      <td>109000</td>\n",
       "    </tr>\n",
       "    <tr>\n",
       "      <th>3</th>\n",
       "      <td>318</td>\n",
       "      <td>60</td>\n",
       "      <td>RL</td>\n",
       "      <td>73.0</td>\n",
       "      <td>9802</td>\n",
       "      <td>Pave</td>\n",
       "      <td>4</td>\n",
       "      <td>Lvl</td>\n",
       "      <td>4.0</td>\n",
       "      <td>Inside</td>\n",
       "      <td>...</td>\n",
       "      <td>100</td>\n",
       "      <td>0</td>\n",
       "      <td>0</td>\n",
       "      <td>0</td>\n",
       "      <td>0</td>\n",
       "      <td>0</td>\n",
       "      <td>4</td>\n",
       "      <td>2010</td>\n",
       "      <td>WD</td>\n",
       "      <td>174000</td>\n",
       "    </tr>\n",
       "    <tr>\n",
       "      <th>4</th>\n",
       "      <td>255</td>\n",
       "      <td>50</td>\n",
       "      <td>RL</td>\n",
       "      <td>82.0</td>\n",
       "      <td>14235</td>\n",
       "      <td>Pave</td>\n",
       "      <td>3</td>\n",
       "      <td>Lvl</td>\n",
       "      <td>4.0</td>\n",
       "      <td>Inside</td>\n",
       "      <td>...</td>\n",
       "      <td>0</td>\n",
       "      <td>59</td>\n",
       "      <td>0</td>\n",
       "      <td>0</td>\n",
       "      <td>0</td>\n",
       "      <td>0</td>\n",
       "      <td>3</td>\n",
       "      <td>2010</td>\n",
       "      <td>WD</td>\n",
       "      <td>138500</td>\n",
       "    </tr>\n",
       "    <tr>\n",
       "      <th>...</th>\n",
       "      <td>...</td>\n",
       "      <td>...</td>\n",
       "      <td>...</td>\n",
       "      <td>...</td>\n",
       "      <td>...</td>\n",
       "      <td>...</td>\n",
       "      <td>...</td>\n",
       "      <td>...</td>\n",
       "      <td>...</td>\n",
       "      <td>...</td>\n",
       "      <td>...</td>\n",
       "      <td>...</td>\n",
       "      <td>...</td>\n",
       "      <td>...</td>\n",
       "      <td>...</td>\n",
       "      <td>...</td>\n",
       "      <td>...</td>\n",
       "      <td>...</td>\n",
       "      <td>...</td>\n",
       "      <td>...</td>\n",
       "      <td>...</td>\n",
       "    </tr>\n",
       "    <tr>\n",
       "      <th>2044</th>\n",
       "      <td>1587</td>\n",
       "      <td>20</td>\n",
       "      <td>RL</td>\n",
       "      <td>79.0</td>\n",
       "      <td>11449</td>\n",
       "      <td>Pave</td>\n",
       "      <td>3</td>\n",
       "      <td>HLS</td>\n",
       "      <td>4.0</td>\n",
       "      <td>Inside</td>\n",
       "      <td>...</td>\n",
       "      <td>0</td>\n",
       "      <td>276</td>\n",
       "      <td>0</td>\n",
       "      <td>0</td>\n",
       "      <td>0</td>\n",
       "      <td>0</td>\n",
       "      <td>1</td>\n",
       "      <td>2008</td>\n",
       "      <td>WD</td>\n",
       "      <td>298751</td>\n",
       "    </tr>\n",
       "    <tr>\n",
       "      <th>2045</th>\n",
       "      <td>785</td>\n",
       "      <td>30</td>\n",
       "      <td>RL</td>\n",
       "      <td>0.0</td>\n",
       "      <td>12342</td>\n",
       "      <td>Pave</td>\n",
       "      <td>3</td>\n",
       "      <td>Lvl</td>\n",
       "      <td>4.0</td>\n",
       "      <td>Inside</td>\n",
       "      <td>...</td>\n",
       "      <td>158</td>\n",
       "      <td>0</td>\n",
       "      <td>0</td>\n",
       "      <td>0</td>\n",
       "      <td>0</td>\n",
       "      <td>0</td>\n",
       "      <td>3</td>\n",
       "      <td>2009</td>\n",
       "      <td>WD</td>\n",
       "      <td>82500</td>\n",
       "    </tr>\n",
       "    <tr>\n",
       "      <th>2046</th>\n",
       "      <td>916</td>\n",
       "      <td>50</td>\n",
       "      <td>RL</td>\n",
       "      <td>57.0</td>\n",
       "      <td>7558</td>\n",
       "      <td>Pave</td>\n",
       "      <td>4</td>\n",
       "      <td>Bnk</td>\n",
       "      <td>4.0</td>\n",
       "      <td>Inside</td>\n",
       "      <td>...</td>\n",
       "      <td>0</td>\n",
       "      <td>0</td>\n",
       "      <td>0</td>\n",
       "      <td>0</td>\n",
       "      <td>0</td>\n",
       "      <td>0</td>\n",
       "      <td>3</td>\n",
       "      <td>2009</td>\n",
       "      <td>WD</td>\n",
       "      <td>177000</td>\n",
       "    </tr>\n",
       "    <tr>\n",
       "      <th>2047</th>\n",
       "      <td>639</td>\n",
       "      <td>20</td>\n",
       "      <td>RL</td>\n",
       "      <td>80.0</td>\n",
       "      <td>10400</td>\n",
       "      <td>Pave</td>\n",
       "      <td>4</td>\n",
       "      <td>Lvl</td>\n",
       "      <td>4.0</td>\n",
       "      <td>Corner</td>\n",
       "      <td>...</td>\n",
       "      <td>0</td>\n",
       "      <td>189</td>\n",
       "      <td>140</td>\n",
       "      <td>0</td>\n",
       "      <td>0</td>\n",
       "      <td>0</td>\n",
       "      <td>11</td>\n",
       "      <td>2009</td>\n",
       "      <td>WD</td>\n",
       "      <td>144000</td>\n",
       "    </tr>\n",
       "    <tr>\n",
       "      <th>2048</th>\n",
       "      <td>10</td>\n",
       "      <td>60</td>\n",
       "      <td>RL</td>\n",
       "      <td>60.0</td>\n",
       "      <td>7500</td>\n",
       "      <td>Pave</td>\n",
       "      <td>4</td>\n",
       "      <td>Lvl</td>\n",
       "      <td>4.0</td>\n",
       "      <td>Inside</td>\n",
       "      <td>...</td>\n",
       "      <td>140</td>\n",
       "      <td>60</td>\n",
       "      <td>0</td>\n",
       "      <td>0</td>\n",
       "      <td>0</td>\n",
       "      <td>0</td>\n",
       "      <td>6</td>\n",
       "      <td>2010</td>\n",
       "      <td>WD</td>\n",
       "      <td>189000</td>\n",
       "    </tr>\n",
       "  </tbody>\n",
       "</table>\n",
       "<p>2049 rows × 75 columns</p>\n",
       "</div>"
      ],
      "text/plain": [
       "        id  ms_subclass ms_zoning  lot_frontage  lot_area street  lot_shape  \\\n",
       "0      109           60        RL           0.0     13517   Pave          3   \n",
       "1      544           60        RL          43.0     11492   Pave          3   \n",
       "2      153           20        RL          68.0      7922   Pave          4   \n",
       "3      318           60        RL          73.0      9802   Pave          4   \n",
       "4      255           50        RL          82.0     14235   Pave          3   \n",
       "...    ...          ...       ...           ...       ...    ...        ...   \n",
       "2044  1587           20        RL          79.0     11449   Pave          3   \n",
       "2045   785           30        RL           0.0     12342   Pave          3   \n",
       "2046   916           50        RL          57.0      7558   Pave          4   \n",
       "2047   639           20        RL          80.0     10400   Pave          4   \n",
       "2048    10           60        RL          60.0      7500   Pave          4   \n",
       "\n",
       "     land_contour  utilities lot_config  ...  wood_deck_sf open_porch_sf  \\\n",
       "0             Lvl        4.0    CulDSac  ...             0            44   \n",
       "1             Lvl        4.0    CulDSac  ...             0            74   \n",
       "2             Lvl        4.0     Inside  ...             0            52   \n",
       "3             Lvl        4.0     Inside  ...           100             0   \n",
       "4             Lvl        4.0     Inside  ...             0            59   \n",
       "...           ...        ...        ...  ...           ...           ...   \n",
       "2044          HLS        4.0     Inside  ...             0           276   \n",
       "2045          Lvl        4.0     Inside  ...           158             0   \n",
       "2046          Bnk        4.0     Inside  ...             0             0   \n",
       "2047          Lvl        4.0     Corner  ...             0           189   \n",
       "2048          Lvl        4.0     Inside  ...           140            60   \n",
       "\n",
       "     enclosed_porch 3ssn_porch screen_porch misc_val  mo_sold  yr_sold  \\\n",
       "0                 0          0            0        0        3     2010   \n",
       "1                 0          0            0        0        4     2009   \n",
       "2                 0          0            0        0        1     2010   \n",
       "3                 0          0            0        0        4     2010   \n",
       "4                 0          0            0        0        3     2010   \n",
       "...             ...        ...          ...      ...      ...      ...   \n",
       "2044              0          0            0        0        1     2008   \n",
       "2045              0          0            0        0        3     2009   \n",
       "2046              0          0            0        0        3     2009   \n",
       "2047            140          0            0        0       11     2009   \n",
       "2048              0          0            0        0        6     2010   \n",
       "\n",
       "      sale_type  saleprice  \n",
       "0           WD      130500  \n",
       "1           WD      220000  \n",
       "2           WD      109000  \n",
       "3           WD      174000  \n",
       "4           WD      138500  \n",
       "...         ...        ...  \n",
       "2044        WD      298751  \n",
       "2045        WD       82500  \n",
       "2046        WD      177000  \n",
       "2047        WD      144000  \n",
       "2048        WD      189000  \n",
       "\n",
       "[2049 rows x 75 columns]"
      ]
     },
     "execution_count": 5,
     "metadata": {},
     "output_type": "execute_result"
    }
   ],
   "source": [
    "df"
   ]
  },
  {
   "cell_type": "markdown",
   "metadata": {},
   "source": [
    "## MODELLING ##"
   ]
  },
  {
   "cell_type": "markdown",
   "metadata": {},
   "source": [
    "**---Identify X & Y, TRAIN/TEST/SPLIT---**"
   ]
  },
  {
   "cell_type": "code",
   "execution_count": 7,
   "metadata": {},
   "outputs": [],
   "source": [
    "#selecting all numeric values as features, with the exception of SalePrice\n",
    "features = [col for col in df._get_numeric_data().columns if col !='saleprice']\n",
    "\n",
    "X = df[features]\n",
    "y = df['saleprice']"
   ]
  },
  {
   "cell_type": "code",
   "execution_count": 8,
   "metadata": {},
   "outputs": [],
   "source": [
    "#train/test/split with training size 0.8\n",
    "X_train, X_test, y_train, y_test = train_test_split(X, y, train_size=0.8)"
   ]
  },
  {
   "cell_type": "code",
   "execution_count": 9,
   "metadata": {},
   "outputs": [
    {
     "name": "stdout",
     "output_type": "stream",
     "text": [
      "(1639, 55)\n",
      "(410, 55)\n",
      "(1639,)\n",
      "(410,)\n"
     ]
    }
   ],
   "source": [
    "#showing the distributions of X_train, X_test, y_train, y_test\n",
    "print(X_train.shape)\n",
    "print(X_test.shape)\n",
    "print(y_train.shape)\n",
    "print(y_test.shape)"
   ]
  },
  {
   "cell_type": "markdown",
   "metadata": {},
   "source": [
    "**---LINEAR REGRESSION---**"
   ]
  },
  {
   "cell_type": "code",
   "execution_count": 10,
   "metadata": {},
   "outputs": [],
   "source": [
    "#instantiate\n",
    "lm = LinearRegression()\n",
    "\n",
    "#10 fold cross val score on TRAIN\n",
    "lm_cv_mse = -cross_val_score(lm, \n",
    "                             X_train, \n",
    "                             y_train, \n",
    "                             cv=10,\n",
    "                             scoring='neg_root_mean_squared_error').mean()\n"
   ]
  },
  {
   "cell_type": "code",
   "execution_count": 11,
   "metadata": {},
   "outputs": [
    {
     "data": {
      "text/plain": [
       "26289.43268155268"
      ]
     },
     "execution_count": 11,
     "metadata": {},
     "output_type": "execute_result"
    }
   ],
   "source": [
    "#root MSE: >>> this value is different from manually calculated\n",
    "#if we use neg_mean_squared_error?\n",
    "lm_cv_mse"
   ]
  },
  {
   "cell_type": "code",
   "execution_count": 12,
   "metadata": {},
   "outputs": [
    {
     "data": {
      "text/plain": [
       "LinearRegression()"
      ]
     },
     "execution_count": 12,
     "metadata": {},
     "output_type": "execute_result"
    }
   ],
   "source": [
    "#fitting our model on training set:\n",
    "lm.fit(X_train, y_train)"
   ]
  },
  {
   "cell_type": "code",
   "execution_count": 13,
   "metadata": {},
   "outputs": [
    {
     "name": "stdout",
     "output_type": "stream",
     "text": [
      "Linear Model y_preds mean: 185878.65441280822\n"
     ]
    }
   ],
   "source": [
    "#list predictions for our test set\n",
    "y_preds_lm = lm.predict(X_test)\n",
    "print(\"Linear Model y_preds mean:\",y_preds_lm.mean())"
   ]
  },
  {
   "cell_type": "markdown",
   "metadata": {},
   "source": [
    "**---RIDGE REGRESSION---**"
   ]
  },
  {
   "cell_type": "code",
   "execution_count": 14,
   "metadata": {},
   "outputs": [],
   "source": [
    "#Scaling data\n",
    "ss=StandardScaler()\n",
    "X_train_scaled = ss.fit_transform(X_train)\n",
    "X_test_scaled = ss.transform(X_test)"
   ]
  },
  {
   "cell_type": "code",
   "execution_count": 15,
   "metadata": {},
   "outputs": [
    {
     "data": {
      "text/plain": [
       "RidgeCV(alphas=array([1.00000000e+00, 1.05956018e+00, 1.12266777e+00, 1.18953407e+00,\n",
       "       1.26038293e+00, 1.33545156e+00, 1.41499130e+00, 1.49926843e+00,\n",
       "       1.58856513e+00, 1.68318035e+00, 1.78343088e+00, 1.88965234e+00,\n",
       "       2.00220037e+00, 2.12145178e+00, 2.24780583e+00, 2.38168555e+00,\n",
       "       2.52353917e+00, 2.67384162e+00, 2.83309610e+00, 3.00183581e+00,\n",
       "       3.18062569e+00, 3.37006433e+0...\n",
       "       2.64308149e+04, 2.80050389e+04, 2.96730241e+04, 3.14403547e+04,\n",
       "       3.33129479e+04, 3.52970730e+04, 3.73993730e+04, 3.96268864e+04,\n",
       "       4.19870708e+04, 4.44878283e+04, 4.71375313e+04, 4.99450512e+04,\n",
       "       5.29197874e+04, 5.60716994e+04, 5.94113398e+04, 6.29498899e+04,\n",
       "       6.66991966e+04, 7.06718127e+04, 7.48810386e+04, 7.93409667e+04,\n",
       "       8.40665289e+04, 8.90735464e+04, 9.43787828e+04, 1.00000000e+05]),\n",
       "        store_cv_values=True)"
      ]
     },
     "execution_count": 15,
     "metadata": {},
     "output_type": "execute_result"
    }
   ],
   "source": [
    "#Instantiate ridge model:\n",
    "r_alphas = np.logspace(0,5,200)\n",
    "ridge_cv = RidgeCV(alphas=r_alphas, store_cv_values = True)\n",
    "\n",
    "#Fit ridgeCV model on scaled training set:\n",
    "ridge_cv.fit(X_train_scaled, y_train)"
   ]
  },
  {
   "cell_type": "code",
   "execution_count": 16,
   "metadata": {},
   "outputs": [
    {
     "name": "stdout",
     "output_type": "stream",
     "text": [
      "57.384416483023955\n"
     ]
    }
   ],
   "source": [
    "#obtain optimal alpha from ridgeCV\n",
    "r_optimal_alpha = ridge_cv.alpha_\n",
    "print(r_optimal_alpha)\n",
    "\n",
    "#use optimal alpha to run ridge:\n",
    "ridge_opt = Ridge(alpha=r_optimal_alpha)\n"
   ]
  },
  {
   "cell_type": "code",
   "execution_count": 17,
   "metadata": {},
   "outputs": [
    {
     "data": {
      "text/plain": [
       "Ridge(alpha=57.384416483023955)"
      ]
     },
     "execution_count": 17,
     "metadata": {},
     "output_type": "execute_result"
    }
   ],
   "source": [
    "ridge_opt.fit(X_train_scaled, y_train)"
   ]
  },
  {
   "cell_type": "code",
   "execution_count": null,
   "metadata": {},
   "outputs": [],
   "source": [
    "ridge_opt"
   ]
  },
  {
   "cell_type": "code",
   "execution_count": 15,
   "metadata": {},
   "outputs": [
    {
     "data": {
      "text/plain": [
       "26135.150392349304"
      ]
     },
     "execution_count": 15,
     "metadata": {},
     "output_type": "execute_result"
    }
   ],
   "source": [
    "ridge_cv_RMSE = - cross_val_score(ridge_cv, \n",
    "                                X_train_scaled, \n",
    "                                y_train,\n",
    "                                scoring='neg_root_mean_squared_error').mean()\n",
    "\n",
    "ridge_cv_RMSE.mean()"
   ]
  },
  {
   "cell_type": "markdown",
   "metadata": {},
   "source": [
    "**---LASSO REGRESSION---**"
   ]
  },
  {
   "cell_type": "code",
   "execution_count": 47,
   "metadata": {},
   "outputs": [
    {
     "data": {
      "text/plain": [
       "LassoCV()"
      ]
     },
     "execution_count": 47,
     "metadata": {},
     "output_type": "execute_result"
    }
   ],
   "source": [
    "#instantiate:\n",
    "lasso_cv = LassoCV(n_alphas=100)\n",
    "lasso_cv.fit(X_train_scaled, y_train)"
   ]
  },
  {
   "cell_type": "code",
   "execution_count": 17,
   "metadata": {},
   "outputs": [
    {
     "data": {
      "text/plain": [
       "(1639, 55)"
      ]
     },
     "execution_count": 17,
     "metadata": {},
     "output_type": "execute_result"
    }
   ],
   "source": [
    "X_train_scaled.shape"
   ]
  },
  {
   "cell_type": "code",
   "execution_count": 18,
   "metadata": {},
   "outputs": [
    {
     "data": {
      "text/plain": [
       "Lasso(alpha=237.72236654734826)"
      ]
     },
     "execution_count": 18,
     "metadata": {},
     "output_type": "execute_result"
    }
   ],
   "source": [
    "l_optimal_alpha = lasso_cv.alpha_\n",
    "lasso_model=Lasso(alpha=l_optimal_alpha)\n",
    "lasso_model.fit(X_train_scaled, y_train)"
   ]
  },
  {
   "cell_type": "code",
   "execution_count": 19,
   "metadata": {},
   "outputs": [],
   "source": [
    "lasso_cv_RMSE = -cross_val_score(lasso_cv,\n",
    "                                 X_train_scaled,\n",
    "                                 y_train,\n",
    "                                 scoring='neg_root_mean_squared_error'\n",
    "                                ).mean()"
   ]
  },
  {
   "cell_type": "code",
   "execution_count": 20,
   "metadata": {},
   "outputs": [
    {
     "data": {
      "text/plain": [
       "26108.194076502958"
      ]
     },
     "execution_count": 20,
     "metadata": {},
     "output_type": "execute_result"
    }
   ],
   "source": [
    "lasso_cv_RMSE"
   ]
  },
  {
   "cell_type": "code",
   "execution_count": 21,
   "metadata": {},
   "outputs": [
    {
     "data": {
      "text/plain": [
       "array([231498.35273143,  92153.96446311, 243413.37723852, ...,\n",
       "       198889.52240061, 160300.27583973, 254924.19575379])"
      ]
     },
     "execution_count": 21,
     "metadata": {},
     "output_type": "execute_result"
    }
   ],
   "source": [
    "lasso_cv.predict(X_train_scaled)"
   ]
  },
  {
   "cell_type": "code",
   "execution_count": 22,
   "metadata": {},
   "outputs": [],
   "source": [
    "lasso_model_RMSE = -cross_val_score(lasso_model,\n",
    "                                    X_train_scaled,\n",
    "                                    y_train,\n",
    "                                    scoring='neg_root_mean_squared_error'\n",
    "                                   ).mean()"
   ]
  },
  {
   "cell_type": "code",
   "execution_count": 23,
   "metadata": {},
   "outputs": [
    {
     "data": {
      "text/plain": [
       "26084.118653649588"
      ]
     },
     "execution_count": 23,
     "metadata": {},
     "output_type": "execute_result"
    }
   ],
   "source": [
    "lasso_model_RMSE"
   ]
  },
  {
   "cell_type": "markdown",
   "metadata": {},
   "source": [
    "## Adjusting Rows & Columns of Test Set to Match Training Set ##"
   ]
  },
  {
   "cell_type": "code",
   "execution_count": 24,
   "metadata": {},
   "outputs": [],
   "source": [
    "test = pd.read_csv('./datasets/test.csv')"
   ]
  },
  {
   "cell_type": "code",
   "execution_count": 25,
   "metadata": {},
   "outputs": [
    {
     "data": {
      "text/html": [
       "<div>\n",
       "<style scoped>\n",
       "    .dataframe tbody tr th:only-of-type {\n",
       "        vertical-align: middle;\n",
       "    }\n",
       "\n",
       "    .dataframe tbody tr th {\n",
       "        vertical-align: top;\n",
       "    }\n",
       "\n",
       "    .dataframe thead th {\n",
       "        text-align: right;\n",
       "    }\n",
       "</style>\n",
       "<table border=\"1\" class=\"dataframe\">\n",
       "  <thead>\n",
       "    <tr style=\"text-align: right;\">\n",
       "      <th></th>\n",
       "      <th>Id</th>\n",
       "      <th>PID</th>\n",
       "      <th>MS SubClass</th>\n",
       "      <th>MS Zoning</th>\n",
       "      <th>Lot Frontage</th>\n",
       "      <th>Lot Area</th>\n",
       "      <th>Street</th>\n",
       "      <th>Alley</th>\n",
       "      <th>Lot Shape</th>\n",
       "      <th>Land Contour</th>\n",
       "      <th>...</th>\n",
       "      <th>3Ssn Porch</th>\n",
       "      <th>Screen Porch</th>\n",
       "      <th>Pool Area</th>\n",
       "      <th>Pool QC</th>\n",
       "      <th>Fence</th>\n",
       "      <th>Misc Feature</th>\n",
       "      <th>Misc Val</th>\n",
       "      <th>Mo Sold</th>\n",
       "      <th>Yr Sold</th>\n",
       "      <th>Sale Type</th>\n",
       "    </tr>\n",
       "  </thead>\n",
       "  <tbody>\n",
       "    <tr>\n",
       "      <th>0</th>\n",
       "      <td>2658</td>\n",
       "      <td>902301120</td>\n",
       "      <td>190</td>\n",
       "      <td>RM</td>\n",
       "      <td>69.0</td>\n",
       "      <td>9142</td>\n",
       "      <td>Pave</td>\n",
       "      <td>Grvl</td>\n",
       "      <td>Reg</td>\n",
       "      <td>Lvl</td>\n",
       "      <td>...</td>\n",
       "      <td>0</td>\n",
       "      <td>0</td>\n",
       "      <td>0</td>\n",
       "      <td>NaN</td>\n",
       "      <td>NaN</td>\n",
       "      <td>NaN</td>\n",
       "      <td>0</td>\n",
       "      <td>4</td>\n",
       "      <td>2006</td>\n",
       "      <td>WD</td>\n",
       "    </tr>\n",
       "    <tr>\n",
       "      <th>1</th>\n",
       "      <td>2718</td>\n",
       "      <td>905108090</td>\n",
       "      <td>90</td>\n",
       "      <td>RL</td>\n",
       "      <td>NaN</td>\n",
       "      <td>9662</td>\n",
       "      <td>Pave</td>\n",
       "      <td>NaN</td>\n",
       "      <td>IR1</td>\n",
       "      <td>Lvl</td>\n",
       "      <td>...</td>\n",
       "      <td>0</td>\n",
       "      <td>0</td>\n",
       "      <td>0</td>\n",
       "      <td>NaN</td>\n",
       "      <td>NaN</td>\n",
       "      <td>NaN</td>\n",
       "      <td>0</td>\n",
       "      <td>8</td>\n",
       "      <td>2006</td>\n",
       "      <td>WD</td>\n",
       "    </tr>\n",
       "    <tr>\n",
       "      <th>2</th>\n",
       "      <td>2414</td>\n",
       "      <td>528218130</td>\n",
       "      <td>60</td>\n",
       "      <td>RL</td>\n",
       "      <td>58.0</td>\n",
       "      <td>17104</td>\n",
       "      <td>Pave</td>\n",
       "      <td>NaN</td>\n",
       "      <td>IR1</td>\n",
       "      <td>Lvl</td>\n",
       "      <td>...</td>\n",
       "      <td>0</td>\n",
       "      <td>0</td>\n",
       "      <td>0</td>\n",
       "      <td>NaN</td>\n",
       "      <td>NaN</td>\n",
       "      <td>NaN</td>\n",
       "      <td>0</td>\n",
       "      <td>9</td>\n",
       "      <td>2006</td>\n",
       "      <td>New</td>\n",
       "    </tr>\n",
       "    <tr>\n",
       "      <th>3</th>\n",
       "      <td>1989</td>\n",
       "      <td>902207150</td>\n",
       "      <td>30</td>\n",
       "      <td>RM</td>\n",
       "      <td>60.0</td>\n",
       "      <td>8520</td>\n",
       "      <td>Pave</td>\n",
       "      <td>NaN</td>\n",
       "      <td>Reg</td>\n",
       "      <td>Lvl</td>\n",
       "      <td>...</td>\n",
       "      <td>0</td>\n",
       "      <td>0</td>\n",
       "      <td>0</td>\n",
       "      <td>NaN</td>\n",
       "      <td>NaN</td>\n",
       "      <td>NaN</td>\n",
       "      <td>0</td>\n",
       "      <td>7</td>\n",
       "      <td>2007</td>\n",
       "      <td>WD</td>\n",
       "    </tr>\n",
       "    <tr>\n",
       "      <th>4</th>\n",
       "      <td>625</td>\n",
       "      <td>535105100</td>\n",
       "      <td>20</td>\n",
       "      <td>RL</td>\n",
       "      <td>NaN</td>\n",
       "      <td>9500</td>\n",
       "      <td>Pave</td>\n",
       "      <td>NaN</td>\n",
       "      <td>IR1</td>\n",
       "      <td>Lvl</td>\n",
       "      <td>...</td>\n",
       "      <td>0</td>\n",
       "      <td>185</td>\n",
       "      <td>0</td>\n",
       "      <td>NaN</td>\n",
       "      <td>NaN</td>\n",
       "      <td>NaN</td>\n",
       "      <td>0</td>\n",
       "      <td>7</td>\n",
       "      <td>2009</td>\n",
       "      <td>WD</td>\n",
       "    </tr>\n",
       "  </tbody>\n",
       "</table>\n",
       "<p>5 rows × 80 columns</p>\n",
       "</div>"
      ],
      "text/plain": [
       "     Id        PID  MS SubClass MS Zoning  Lot Frontage  Lot Area Street  \\\n",
       "0  2658  902301120          190        RM          69.0      9142   Pave   \n",
       "1  2718  905108090           90        RL           NaN      9662   Pave   \n",
       "2  2414  528218130           60        RL          58.0     17104   Pave   \n",
       "3  1989  902207150           30        RM          60.0      8520   Pave   \n",
       "4   625  535105100           20        RL           NaN      9500   Pave   \n",
       "\n",
       "  Alley Lot Shape Land Contour  ... 3Ssn Porch Screen Porch Pool Area Pool QC  \\\n",
       "0  Grvl       Reg          Lvl  ...          0            0         0     NaN   \n",
       "1   NaN       IR1          Lvl  ...          0            0         0     NaN   \n",
       "2   NaN       IR1          Lvl  ...          0            0         0     NaN   \n",
       "3   NaN       Reg          Lvl  ...          0            0         0     NaN   \n",
       "4   NaN       IR1          Lvl  ...          0          185         0     NaN   \n",
       "\n",
       "  Fence Misc Feature Misc Val Mo Sold  Yr Sold  Sale Type  \n",
       "0   NaN          NaN        0       4     2006        WD   \n",
       "1   NaN          NaN        0       8     2006        WD   \n",
       "2   NaN          NaN        0       9     2006        New  \n",
       "3   NaN          NaN        0       7     2007        WD   \n",
       "4   NaN          NaN        0       7     2009        WD   \n",
       "\n",
       "[5 rows x 80 columns]"
      ]
     },
     "execution_count": 25,
     "metadata": {},
     "output_type": "execute_result"
    }
   ],
   "source": [
    "test.head()"
   ]
  },
  {
   "cell_type": "code",
   "execution_count": 26,
   "metadata": {},
   "outputs": [
    {
     "data": {
      "text/plain": [
       "(879, 80)"
      ]
     },
     "execution_count": 26,
     "metadata": {},
     "output_type": "execute_result"
    }
   ],
   "source": [
    "test.shape"
   ]
  },
  {
   "cell_type": "code",
   "execution_count": 27,
   "metadata": {},
   "outputs": [],
   "source": [
    "test['Pool Area'].replace(0,np.nan, inplace=True)\n",
    "test['Pool Area'].isnull().value_counts()\n",
    "test.drop(columns=['Misc Feature','Alley', 'Pool QC', 'Pool Area', 'PID', 'Fence'], inplace=True)"
   ]
  },
  {
   "cell_type": "code",
   "execution_count": 28,
   "metadata": {},
   "outputs": [],
   "source": [
    "#ORDINAL ENCODING FOR COL: LOT SHAPE\n",
    "lotshape_ordinal = {'Reg': 4,\n",
    "                    'IR1': 3,\n",
    "                    'IR2': 2,\n",
    "                    'IR3': 1}\n",
    "\n",
    "test['Lot Shape'] = test['Lot Shape'].apply(lambda x:\n",
    "                                              lotshape_ordinal[x] \n",
    "                                              if x in lotshape_ordinal \n",
    "                                              else np.nan)\n",
    "\n",
    "#ORDINAL ENCODING FOR COL: UTILITIES\n",
    "utilities_ordinal = {'AllPub':4,\n",
    "                     'NoSwer':3,\n",
    "                     'NoSeWa':2,\n",
    "                     'ELO':1}\n",
    "\n",
    "test['Utilities'] = test['Utilities'].apply(lambda x:\n",
    "                                              utilities_ordinal[x] \n",
    "                                              if x in utilities_ordinal \n",
    "                                              else np.nan)\n",
    "\n",
    "#ORDINAL ENCODING FOR COL: UTILITIES\n",
    "landslope_ordinal = {'Gtl':3,\n",
    "                     'Mod':2,\n",
    "                     'Sev':1}\n",
    "\n",
    "test['Land Slope'] = test['Land Slope'].apply(lambda x:\n",
    "                                                landslope_ordinal[x] \n",
    "                                                if x in landslope_ordinal \n",
    "                                                else np.nan)\n",
    "\n",
    "#ORDINAL ENCODING FOR COL: OVERALL QUAL & OVERAL COND NOT NECESSARY\n",
    "#AS ALREADY RANKED\n",
    "\n",
    "#ORDINAL ENCODING FOR COL: EXTER QUAL\n",
    "exterqual_ordinal = {'Ex':5,\n",
    "                     'Gd':4,\n",
    "                     'TA':3,\n",
    "                     'Fa':2,\n",
    "                     'Po':1}\n",
    "\n",
    "test['Exter Qual'] = test['Exter Qual'].apply(lambda x:\n",
    "                                                exterqual_ordinal[x] \n",
    "                                                if x in exterqual_ordinal \n",
    "                                                else np.nan)\n",
    "\n",
    "\n",
    "#ORDINAL ENCODING FOR COL: EXTER COND\n",
    "extercond_ordinal = {'Ex':5,\n",
    "                     'Gd':4,\n",
    "                     'TA':3,\n",
    "                     'Fa':2,\n",
    "                     'Po':1}\n",
    "\n",
    "test['Exter Cond'] = test['Exter Cond'].apply(lambda x:\n",
    "                                                extercond_ordinal[x] \n",
    "                                                if x in extercond_ordinal \n",
    "                                                else np.nan)\n",
    "\n",
    "#ORDINAL ENCODING FOR COL: BSMT QUAL, NA TO RESULT IN 0\n",
    "bsmtqual_ordinal = {'Ex':5,\n",
    "                    'Gd':4,\n",
    "                    'TA':3,\n",
    "                    'Fa':2,\n",
    "                    'Po':1,\n",
    "                    'NA':0}\n",
    "\n",
    "test['Bsmt Qual'] = test['Bsmt Qual'].apply(lambda x:\n",
    "                                              bsmtqual_ordinal[x] \n",
    "                                              if x in bsmtqual_ordinal \n",
    "                                              else np.nan)\n",
    "\n",
    "#ORDINAL ENCODING FOR COL: BSMT COND, NA TO RESULT IN 0\n",
    "bsmtcond_ordinal = {'Ex':5,\n",
    "                    'Gd':4,\n",
    "                    'TA':3,\n",
    "                    'Fa':2,\n",
    "                    'Po':1,\n",
    "                    'NA':0}\n",
    "\n",
    "test['Bsmt Cond'] = test['Bsmt Cond'].apply(lambda x:\n",
    "                                              bsmtcond_ordinal[x] \n",
    "                                              if x in bsmtcond_ordinal \n",
    "                                              else np.nan)\n",
    "\n",
    "#ORDINAL ENCODING FOR COL: BSMT EXPOSURE, NA TO RESULT IN 0\n",
    "bsmtexposure_ordinal = {'Gd':4,\n",
    "                        'Av':3,\n",
    "                        'Mn':2,\n",
    "                        'No':1,\n",
    "                        'NA':0}\n",
    "\n",
    "test['Bsmt Exposure'] = test['Bsmt Exposure'].apply(lambda x:\n",
    "                                              bsmtexposure_ordinal[x] \n",
    "                                              if x in bsmtexposure_ordinal \n",
    "                                              else np.nan)\n",
    "\n",
    "#ORDINAL ENCODING FOR COL: BSMTFIN, NA TO RESULT IN 0\n",
    "bsmtfin_ordinal = {'GLQ':6,\n",
    "                   'ALQ':5,\n",
    "                   'BLQ':4,\n",
    "                   'Rec':3,\n",
    "                   'LwQ':2,\n",
    "                   'Unf':1,\n",
    "                   'NA':0}\n",
    "\n",
    "test['BsmtFin Type 1'] = test['BsmtFin Type 1'].apply(lambda x:\n",
    "                                                        bsmtfin_ordinal[x] \n",
    "                                                        if x in bsmtfin_ordinal \n",
    "                                                        else np.nan)\n",
    "\n",
    "\n",
    "#ORDINAL ENCODING FOR COL: BSMTFINTYPE 2, NA TO RESULT IN 0\n",
    "bsmtfintype2_ordinal = {'GLQ':6,\n",
    "                        'ALQ':5,\n",
    "                        'BLQ':4,\n",
    "                        'Rec':3,\n",
    "                        'LwQ':2,\n",
    "                        'Unf':1,\n",
    "                        'NA':0}\n",
    "\n",
    "test['BsmtFin Type 2'] = test['BsmtFin Type 2'].apply(lambda x:\n",
    "                                              bsmtfintype2_ordinal[x] \n",
    "                                              if x in bsmtfintype2_ordinal \n",
    "                                              else np.nan)\n",
    "\n",
    "\n",
    "#ORDINAL ENCODING FOR COL: HEATINGQC\n",
    "heatingqc_ordinal = {'Ex':5,\n",
    "                     'Gd':4,\n",
    "                     'TA':3,\n",
    "                     'Fa':2,\n",
    "                     'Po':1}\n",
    "                    \n",
    "test['Heating QC'] = test['Heating QC'].apply(lambda x:\n",
    "                                              heatingqc_ordinal[x] \n",
    "                                              if x in heatingqc_ordinal\n",
    "                                              else np.nan)\n",
    "\n",
    "#ORDINAL ENCODING FOR COL: ELECTRICAL\n",
    "elec_ordinal = {'SBrkr':5,\n",
    "                'FusaA':4,\n",
    "                'FuseF':3,\n",
    "                'FuseP':2,\n",
    "                'Mix':1}\n",
    "                    \n",
    "test['Electrical'] = test['Electrical'].apply(lambda x:\n",
    "                                                elec_ordinal[x] \n",
    "                                                if x in elec_ordinal\n",
    "                                                else np.nan)\n",
    "\n",
    "#ORDINAL ENCODING FOR COL: KitchenQual\n",
    "kitchenqual_ordinal = {'Ex':5,\n",
    "                       'Gd':4,\n",
    "                       'TA':3,\n",
    "                       'Fa':2,\n",
    "                       'Po':1}\n",
    "                    \n",
    "test['Kitchen Qual'] = test['Kitchen Qual'].apply(lambda x:\n",
    "                                                  kitchenqual_ordinal[x] \n",
    "                                                  if x in kitchenqual_ordinal\n",
    "                                                  else np.nan)\n",
    "\n",
    "#ORDINAL ENCODING FOR COL: FUNCTIONAL\n",
    "homefunctlty_ordinal = {'Typ':8,\n",
    "                        'Min1':7,\n",
    "                        'Min2':6,\n",
    "                        'Mod':5,\n",
    "                        'Maj1':4,\n",
    "                        'Maj2':3,\n",
    "                        'Sev':2,\n",
    "                        'Sal':1}\n",
    "                    \n",
    "test['Functional'] = test['Functional'].apply(lambda x:\n",
    "                                                homefunctlty_ordinal[x] \n",
    "                                                if x in homefunctlty_ordinal\n",
    "                                                else np.nan)\n",
    "\n",
    "#ORDINAL ENCODING FOR COL: FIREPLACEQU, NA TO RESULT IN 0\n",
    "fireplacequal_ordinal = {'Ex':5,\n",
    "                        'Gd':4,\n",
    "                        'TA':3,\n",
    "                        'Fa':2,\n",
    "                        'Po':1,\n",
    "                        'NA':0}\n",
    "\n",
    "test['Fireplace Qu'] = test['Fireplace Qu'].apply(lambda x:\n",
    "                                                  fireplacequal_ordinal[x] \n",
    "                                                  if x in fireplacequal_ordinal \n",
    "                                                  else np.nan)\n",
    "\n",
    "\n",
    "#ORDINAL ENCODING FOR COL: GARAGE FINISH, NA TO RESULT IN 0\n",
    "garagefinish_ordinal = {'Fin':3,\n",
    "                        'RFn':2,\n",
    "                        'Unf':1,\n",
    "                        'NA':0}\n",
    "\n",
    "test['Garage Finish'] = test['Garage Finish'].apply(lambda x:\n",
    "                                                      garagefinish_ordinal[x] \n",
    "                                                      if x in garagefinish_ordinal \n",
    "                                                      else np.nan)\n",
    "\n",
    "\n",
    "#ORDINAL ENCODING FOR COL: GARAGE QUAL, NA TO RESULT IN 0\n",
    "garagequal_ordinal = {'Ex':5,\n",
    "                      'Gd':4,\n",
    "                      'TA':3,\n",
    "                      'Fa':2,\n",
    "                      'Po':1,\n",
    "                      'NA':0}\n",
    "\n",
    "test['Garage Qual'] = test['Garage Qual'].apply(lambda x:\n",
    "                                              garagequal_ordinal[x] \n",
    "                                              if x in garagequal_ordinal \n",
    "                                              else np.nan)\n",
    "\n",
    "#ORDINAL ENCODING FOR COL: GARAGE COND, NA TO RESULT IN 0\n",
    "garagecond_ordinal = {'Ex':5,\n",
    "                      'Gd':4,\n",
    "                      'TA':3,\n",
    "                      'Fa':2,\n",
    "                      'Po':1,\n",
    "                      'NA':0}\n",
    "\n",
    "test['Garage Cond'] = test['Garage Cond'].apply(lambda x:\n",
    "                                                  garagecond_ordinal[x] \n",
    "                                                  if x in garagecond_ordinal \n",
    "                                                  else np.nan)\n",
    "\n",
    "#ORDINAL ENCODING FOR COL: PAVED DRIVE, NA TO RESULT IN 0\n",
    "paveddrive_ordinal = {'Y':2,\n",
    "                      'P':1,\n",
    "                      'N':0}\n",
    "\n",
    "test['Paved Drive'] = test['Paved Drive'].apply(lambda x:\n",
    "                                                  paveddrive_ordinal[x] \n",
    "                                                  if x in paveddrive_ordinal \n",
    "                                                  else np.nan)\n"
   ]
  },
  {
   "cell_type": "code",
   "execution_count": 29,
   "metadata": {},
   "outputs": [
    {
     "data": {
      "text/html": [
       "<div>\n",
       "<style scoped>\n",
       "    .dataframe tbody tr th:only-of-type {\n",
       "        vertical-align: middle;\n",
       "    }\n",
       "\n",
       "    .dataframe tbody tr th {\n",
       "        vertical-align: top;\n",
       "    }\n",
       "\n",
       "    .dataframe thead th {\n",
       "        text-align: right;\n",
       "    }\n",
       "</style>\n",
       "<table border=\"1\" class=\"dataframe\">\n",
       "  <thead>\n",
       "    <tr style=\"text-align: right;\">\n",
       "      <th></th>\n",
       "      <th>Id</th>\n",
       "      <th>MS SubClass</th>\n",
       "      <th>MS Zoning</th>\n",
       "      <th>Lot Frontage</th>\n",
       "      <th>Lot Area</th>\n",
       "      <th>Street</th>\n",
       "      <th>Lot Shape</th>\n",
       "      <th>Land Contour</th>\n",
       "      <th>Utilities</th>\n",
       "      <th>Lot Config</th>\n",
       "      <th>...</th>\n",
       "      <th>Paved Drive</th>\n",
       "      <th>Wood Deck SF</th>\n",
       "      <th>Open Porch SF</th>\n",
       "      <th>Enclosed Porch</th>\n",
       "      <th>3Ssn Porch</th>\n",
       "      <th>Screen Porch</th>\n",
       "      <th>Misc Val</th>\n",
       "      <th>Mo Sold</th>\n",
       "      <th>Yr Sold</th>\n",
       "      <th>Sale Type</th>\n",
       "    </tr>\n",
       "  </thead>\n",
       "  <tbody>\n",
       "  </tbody>\n",
       "</table>\n",
       "<p>0 rows × 74 columns</p>\n",
       "</div>"
      ],
      "text/plain": [
       "Empty DataFrame\n",
       "Columns: [Id, MS SubClass, MS Zoning, Lot Frontage, Lot Area, Street, Lot Shape, Land Contour, Utilities, Lot Config, Land Slope, Neighborhood, Condition 1, Condition 2, Bldg Type, House Style, Overall Qual, Overall Cond, Year Built, Year Remod/Add, Roof Style, Roof Matl, Exterior 1st, Exterior 2nd, Mas Vnr Type, Mas Vnr Area, Exter Qual, Exter Cond, Foundation, Bsmt Qual, Bsmt Cond, Bsmt Exposure, BsmtFin Type 1, BsmtFin SF 1, BsmtFin Type 2, BsmtFin SF 2, Bsmt Unf SF, Total Bsmt SF, Heating, Heating QC, Central Air, Electrical, 1st Flr SF, 2nd Flr SF, Low Qual Fin SF, Gr Liv Area, Bsmt Full Bath, Bsmt Half Bath, Full Bath, Half Bath, Bedroom AbvGr, Kitchen AbvGr, Kitchen Qual, TotRms AbvGrd, Functional, Fireplaces, Fireplace Qu, Garage Type, Garage Yr Blt, Garage Finish, Garage Cars, Garage Area, Garage Qual, Garage Cond, Paved Drive, Wood Deck SF, Open Porch SF, Enclosed Porch, 3Ssn Porch, Screen Porch, Misc Val, Mo Sold, Yr Sold, Sale Type]\n",
       "Index: []\n",
       "\n",
       "[0 rows x 74 columns]"
      ]
     },
     "execution_count": 29,
     "metadata": {},
     "output_type": "execute_result"
    }
   ],
   "source": [
    "test[(test['Id'] == 1499)]\n",
    "test[(test['Id'] == 2181)]"
   ]
  },
  {
   "cell_type": "code",
   "execution_count": 30,
   "metadata": {},
   "outputs": [],
   "source": [
    "test.replace(np.nan, 0, inplace=True)"
   ]
  },
  {
   "cell_type": "code",
   "execution_count": 31,
   "metadata": {},
   "outputs": [
    {
     "data": {
      "text/plain": [
       "(879, 74)"
      ]
     },
     "execution_count": 31,
     "metadata": {},
     "output_type": "execute_result"
    }
   ],
   "source": [
    "test.shape"
   ]
  },
  {
   "cell_type": "code",
   "execution_count": 32,
   "metadata": {},
   "outputs": [],
   "source": [
    "test=test.select_dtypes(include=[np.number])"
   ]
  },
  {
   "cell_type": "code",
   "execution_count": 33,
   "metadata": {},
   "outputs": [
    {
     "data": {
      "text/plain": [
       "(879, 55)"
      ]
     },
     "execution_count": 33,
     "metadata": {},
     "output_type": "execute_result"
    }
   ],
   "source": [
    "test.shape"
   ]
  },
  {
   "cell_type": "code",
   "execution_count": 34,
   "metadata": {},
   "outputs": [
    {
     "data": {
      "text/plain": [
       "Index(['Id', 'MS SubClass', 'Lot Frontage', 'Lot Area', 'Lot Shape',\n",
       "       'Utilities', 'Land Slope', 'Overall Qual', 'Overall Cond', 'Year Built',\n",
       "       'Year Remod/Add', 'Mas Vnr Area', 'Exter Qual', 'Exter Cond',\n",
       "       'Bsmt Qual', 'Bsmt Cond', 'Bsmt Exposure', 'BsmtFin Type 1',\n",
       "       'BsmtFin SF 1', 'BsmtFin Type 2', 'BsmtFin SF 2', 'Bsmt Unf SF',\n",
       "       'Total Bsmt SF', 'Heating QC', 'Electrical', '1st Flr SF', '2nd Flr SF',\n",
       "       'Low Qual Fin SF', 'Gr Liv Area', 'Bsmt Full Bath', 'Bsmt Half Bath',\n",
       "       'Full Bath', 'Half Bath', 'Bedroom AbvGr', 'Kitchen AbvGr',\n",
       "       'Kitchen Qual', 'TotRms AbvGrd', 'Functional', 'Fireplaces',\n",
       "       'Fireplace Qu', 'Garage Yr Blt', 'Garage Finish', 'Garage Cars',\n",
       "       'Garage Area', 'Garage Qual', 'Garage Cond', 'Paved Drive',\n",
       "       'Wood Deck SF', 'Open Porch SF', 'Enclosed Porch', '3Ssn Porch',\n",
       "       'Screen Porch', 'Misc Val', 'Mo Sold', 'Yr Sold'],\n",
       "      dtype='object')"
      ]
     },
     "execution_count": 34,
     "metadata": {},
     "output_type": "execute_result"
    }
   ],
   "source": [
    "test.columns"
   ]
  },
  {
   "cell_type": "code",
   "execution_count": 35,
   "metadata": {},
   "outputs": [],
   "source": [
    "test_scaled = ss.transform(test)"
   ]
  },
  {
   "cell_type": "code",
   "execution_count": 36,
   "metadata": {},
   "outputs": [
    {
     "data": {
      "text/plain": [
       "180026.3346424088"
      ]
     },
     "execution_count": 36,
     "metadata": {},
     "output_type": "execute_result"
    }
   ],
   "source": [
    "lasso_model.predict(test_scaled).mean()"
   ]
  },
  {
   "cell_type": "code",
   "execution_count": 37,
   "metadata": {},
   "outputs": [],
   "source": [
    "test['SalePrice']=lasso_model.predict(test_scaled)"
   ]
  },
  {
   "cell_type": "code",
   "execution_count": 38,
   "metadata": {},
   "outputs": [],
   "source": [
    "test.to_csv('./datasets/test_first')"
   ]
  },
  {
   "cell_type": "code",
   "execution_count": 45,
   "metadata": {},
   "outputs": [],
   "source": [
    "test.drop(test.iloc[:, 1:55], inplace = True, axis = 1) "
   ]
  },
  {
   "cell_type": "code",
   "execution_count": 46,
   "metadata": {},
   "outputs": [
    {
     "data": {
      "text/html": [
       "<div>\n",
       "<style scoped>\n",
       "    .dataframe tbody tr th:only-of-type {\n",
       "        vertical-align: middle;\n",
       "    }\n",
       "\n",
       "    .dataframe tbody tr th {\n",
       "        vertical-align: top;\n",
       "    }\n",
       "\n",
       "    .dataframe thead th {\n",
       "        text-align: right;\n",
       "    }\n",
       "</style>\n",
       "<table border=\"1\" class=\"dataframe\">\n",
       "  <thead>\n",
       "    <tr style=\"text-align: right;\">\n",
       "      <th></th>\n",
       "      <th>SalePrice</th>\n",
       "    </tr>\n",
       "    <tr>\n",
       "      <th>Id</th>\n",
       "      <th></th>\n",
       "    </tr>\n",
       "  </thead>\n",
       "  <tbody>\n",
       "    <tr>\n",
       "      <th>2658</th>\n",
       "      <td>133497.414267</td>\n",
       "    </tr>\n",
       "    <tr>\n",
       "      <th>2718</th>\n",
       "      <td>154264.880437</td>\n",
       "    </tr>\n",
       "    <tr>\n",
       "      <th>2414</th>\n",
       "      <td>205989.753197</td>\n",
       "    </tr>\n",
       "    <tr>\n",
       "      <th>1989</th>\n",
       "      <td>119805.351520</td>\n",
       "    </tr>\n",
       "    <tr>\n",
       "      <th>625</th>\n",
       "      <td>184176.794248</td>\n",
       "    </tr>\n",
       "    <tr>\n",
       "      <th>...</th>\n",
       "      <td>...</td>\n",
       "    </tr>\n",
       "    <tr>\n",
       "      <th>1662</th>\n",
       "      <td>195663.393678</td>\n",
       "    </tr>\n",
       "    <tr>\n",
       "      <th>1234</th>\n",
       "      <td>243291.176902</td>\n",
       "    </tr>\n",
       "    <tr>\n",
       "      <th>1373</th>\n",
       "      <td>124213.617358</td>\n",
       "    </tr>\n",
       "    <tr>\n",
       "      <th>1672</th>\n",
       "      <td>105185.608445</td>\n",
       "    </tr>\n",
       "    <tr>\n",
       "      <th>1939</th>\n",
       "      <td>117714.699205</td>\n",
       "    </tr>\n",
       "  </tbody>\n",
       "</table>\n",
       "<p>879 rows × 1 columns</p>\n",
       "</div>"
      ],
      "text/plain": [
       "          SalePrice\n",
       "Id                 \n",
       "2658  133497.414267\n",
       "2718  154264.880437\n",
       "2414  205989.753197\n",
       "1989  119805.351520\n",
       "625   184176.794248\n",
       "...             ...\n",
       "1662  195663.393678\n",
       "1234  243291.176902\n",
       "1373  124213.617358\n",
       "1672  105185.608445\n",
       "1939  117714.699205\n",
       "\n",
       "[879 rows x 1 columns]"
      ]
     },
     "execution_count": 46,
     "metadata": {},
     "output_type": "execute_result"
    }
   ],
   "source": [
    "test"
   ]
  },
  {
   "cell_type": "code",
   "execution_count": 44,
   "metadata": {},
   "outputs": [],
   "source": [
    "test.to_csv('./datasets/kaggletest_1')"
   ]
  },
  {
   "cell_type": "code",
   "execution_count": null,
   "metadata": {},
   "outputs": [],
   "source": []
  }
 ],
 "metadata": {
  "kernelspec": {
   "display_name": "Python 3",
   "language": "python",
   "name": "python3"
  },
  "language_info": {
   "codemirror_mode": {
    "name": "ipython",
    "version": 3
   },
   "file_extension": ".py",
   "mimetype": "text/x-python",
   "name": "python",
   "nbconvert_exporter": "python",
   "pygments_lexer": "ipython3",
   "version": "3.8.5"
  }
 },
 "nbformat": 4,
 "nbformat_minor": 4
}
