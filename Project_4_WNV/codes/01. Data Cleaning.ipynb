{
 "cells": [
  {
   "cell_type": "markdown",
   "metadata": {},
   "source": [
    "# Problem Statement"
   ]
  },
  {
   "cell_type": "markdown",
   "metadata": {},
   "source": [
    "According to the Centers for Disease Control and Prevention, the West Nile Virus (WNV) is a viral infection transmitted across humans through the bite of an infected mosquito. Mosquitoes first become infected when they feed on birds. 1 in 5 people who become infected with the virus develop a fever along with other symptoms such as body aches, rashes and diarrhea. About 1 in 150 people develop a serious illness that affects the central nervous system.\n",
    "\n",
    "Kaggle launched a competition with a $40,000 prize money back in 2015 to predict West Nile Virus in mosquitoes across the city of Chicago. Though the competition has already ended, we're working on our own version of model on the same problem set as part of our Machine Learning curriculum with General Assembly. \n",
    "\n",
    "Our project aims to answer below problem statements:\n",
    "\n",
    "1. Predict the probability of presence of West Nile Virus given weather, location, testing and spray data\n",
    "2. Analyze to see if there are main contributing reasons to the manifestation of West Nile Virus\n",
    "3. Recommendations on best practices to how to combat the spread of West Nile Virus"
   ]
  },
  {
   "cell_type": "markdown",
   "metadata": {},
   "source": [
    "# Executive Summary"
   ]
  },
  {
   "cell_type": "markdown",
   "metadata": {},
   "source": [
    "Our codebook is split to 3 main notebooks\n",
    "\n",
    "1. Data Cleaning (`01. Data Cleaning.ipynb`)\n",
    "2. EDA and Pre-processing (`02. EDA and Pre-processing.ipynb`)\n",
    "3. Modelling (`03. Modelling.ipynb`)\n",
    "\n",
    "`01. Data Cleaning.ipynb`\n",
    "\n",
    "Here we include the codes where we did some basic cleaning of datasets. This include patching up `weather.csv` file onto our `train.csv` data set in order for us to proceed with EDA. We also address some data related issues like converting to the right data types as well taking a deeper look into some of the weather features provided.\n",
    "\n",
    "`02. EDA and Pre-processing.ipynb`\n",
    "\n",
    "We conduct EDA on the data that we clean from earlier notebook. Here we look into relationships of several features like mosquito species, temperature and others against the occurrence of West Nile Virus in order to give us an indicator on which features are more important and where we should do feature engineering on. More importantly, we explored the various correlations as well as cross-correlations on lagged and rolled features on some weather features.\n",
    "\n",
    "`03. Modelling.ipynb`\n",
    "\n",
    "This notebook contains the codes for our models. We pass our datasets through various models through a GridSearch and analyze our results to obtain the best model. We also provide some analysis on the important features as well as the metrics derived from our model. We also include a section on conclusion and recommendations here. "
   ]
  },
  {
   "cell_type": "markdown",
   "metadata": {},
   "source": [
    "# Import libraries"
   ]
  },
  {
   "cell_type": "code",
   "execution_count": 1,
   "metadata": {},
   "outputs": [],
   "source": [
    "import pandas as pd\n",
    "import numpy as np\n",
    "import matplotlib.pyplot as plt\n",
    "import matplotlib as mpl\n",
    "import seaborn as sns\n",
    "from scipy.stats import ttest_ind\n",
    "\n",
    "%matplotlib inline"
   ]
  },
  {
   "cell_type": "code",
   "execution_count": 2,
   "metadata": {},
   "outputs": [],
   "source": [
    "# some matplotlib params to make the defaults a bit more readable\n",
    "mpl.rcParams['figure.figsize'] = [8.0, 6.0]\n",
    "mpl.rcParams['font.size'] = 15\n",
    "mpl.rcParams['axes.spines.right'] = False\n",
    "mpl.rcParams['axes.spines.top'] = False"
   ]
  },
  {
   "cell_type": "code",
   "execution_count": 3,
   "metadata": {},
   "outputs": [],
   "source": [
    "spray = pd.read_csv('../assets/spray.csv')\n",
    "test = pd.read_csv('../assets/test.csv')\n",
    "train = pd.read_csv('../assets/train.csv')\n",
    "weather = pd.read_csv('../assets/weather.csv')"
   ]
  },
  {
   "cell_type": "markdown",
   "metadata": {},
   "source": [
    "# Weather.csv"
   ]
  },
  {
   "cell_type": "code",
   "execution_count": 4,
   "metadata": {},
   "outputs": [
    {
     "data": {
      "text/html": [
       "<div>\n",
       "<style scoped>\n",
       "    .dataframe tbody tr th:only-of-type {\n",
       "        vertical-align: middle;\n",
       "    }\n",
       "\n",
       "    .dataframe tbody tr th {\n",
       "        vertical-align: top;\n",
       "    }\n",
       "\n",
       "    .dataframe thead th {\n",
       "        text-align: right;\n",
       "    }\n",
       "</style>\n",
       "<table border=\"1\" class=\"dataframe\">\n",
       "  <thead>\n",
       "    <tr style=\"text-align: right;\">\n",
       "      <th></th>\n",
       "      <th>Station</th>\n",
       "      <th>Date</th>\n",
       "      <th>Tmax</th>\n",
       "      <th>Tmin</th>\n",
       "      <th>Tavg</th>\n",
       "      <th>Depart</th>\n",
       "      <th>DewPoint</th>\n",
       "      <th>WetBulb</th>\n",
       "      <th>Heat</th>\n",
       "      <th>Cool</th>\n",
       "      <th>...</th>\n",
       "      <th>CodeSum</th>\n",
       "      <th>Depth</th>\n",
       "      <th>Water1</th>\n",
       "      <th>SnowFall</th>\n",
       "      <th>PrecipTotal</th>\n",
       "      <th>StnPressure</th>\n",
       "      <th>SeaLevel</th>\n",
       "      <th>ResultSpeed</th>\n",
       "      <th>ResultDir</th>\n",
       "      <th>AvgSpeed</th>\n",
       "    </tr>\n",
       "  </thead>\n",
       "  <tbody>\n",
       "    <tr>\n",
       "      <th>0</th>\n",
       "      <td>1</td>\n",
       "      <td>2007-05-01</td>\n",
       "      <td>83</td>\n",
       "      <td>50</td>\n",
       "      <td>67</td>\n",
       "      <td>14</td>\n",
       "      <td>51</td>\n",
       "      <td>56</td>\n",
       "      <td>0</td>\n",
       "      <td>2</td>\n",
       "      <td>...</td>\n",
       "      <td></td>\n",
       "      <td>0</td>\n",
       "      <td>M</td>\n",
       "      <td>0.0</td>\n",
       "      <td>0.00</td>\n",
       "      <td>29.10</td>\n",
       "      <td>29.82</td>\n",
       "      <td>1.7</td>\n",
       "      <td>27</td>\n",
       "      <td>9.2</td>\n",
       "    </tr>\n",
       "    <tr>\n",
       "      <th>1</th>\n",
       "      <td>2</td>\n",
       "      <td>2007-05-01</td>\n",
       "      <td>84</td>\n",
       "      <td>52</td>\n",
       "      <td>68</td>\n",
       "      <td>M</td>\n",
       "      <td>51</td>\n",
       "      <td>57</td>\n",
       "      <td>0</td>\n",
       "      <td>3</td>\n",
       "      <td>...</td>\n",
       "      <td></td>\n",
       "      <td>M</td>\n",
       "      <td>M</td>\n",
       "      <td>M</td>\n",
       "      <td>0.00</td>\n",
       "      <td>29.18</td>\n",
       "      <td>29.82</td>\n",
       "      <td>2.7</td>\n",
       "      <td>25</td>\n",
       "      <td>9.6</td>\n",
       "    </tr>\n",
       "    <tr>\n",
       "      <th>2</th>\n",
       "      <td>1</td>\n",
       "      <td>2007-05-02</td>\n",
       "      <td>59</td>\n",
       "      <td>42</td>\n",
       "      <td>51</td>\n",
       "      <td>-3</td>\n",
       "      <td>42</td>\n",
       "      <td>47</td>\n",
       "      <td>14</td>\n",
       "      <td>0</td>\n",
       "      <td>...</td>\n",
       "      <td>BR</td>\n",
       "      <td>0</td>\n",
       "      <td>M</td>\n",
       "      <td>0.0</td>\n",
       "      <td>0.00</td>\n",
       "      <td>29.38</td>\n",
       "      <td>30.09</td>\n",
       "      <td>13.0</td>\n",
       "      <td>4</td>\n",
       "      <td>13.4</td>\n",
       "    </tr>\n",
       "    <tr>\n",
       "      <th>3</th>\n",
       "      <td>2</td>\n",
       "      <td>2007-05-02</td>\n",
       "      <td>60</td>\n",
       "      <td>43</td>\n",
       "      <td>52</td>\n",
       "      <td>M</td>\n",
       "      <td>42</td>\n",
       "      <td>47</td>\n",
       "      <td>13</td>\n",
       "      <td>0</td>\n",
       "      <td>...</td>\n",
       "      <td>BR HZ</td>\n",
       "      <td>M</td>\n",
       "      <td>M</td>\n",
       "      <td>M</td>\n",
       "      <td>0.00</td>\n",
       "      <td>29.44</td>\n",
       "      <td>30.08</td>\n",
       "      <td>13.3</td>\n",
       "      <td>2</td>\n",
       "      <td>13.4</td>\n",
       "    </tr>\n",
       "    <tr>\n",
       "      <th>4</th>\n",
       "      <td>1</td>\n",
       "      <td>2007-05-03</td>\n",
       "      <td>66</td>\n",
       "      <td>46</td>\n",
       "      <td>56</td>\n",
       "      <td>2</td>\n",
       "      <td>40</td>\n",
       "      <td>48</td>\n",
       "      <td>9</td>\n",
       "      <td>0</td>\n",
       "      <td>...</td>\n",
       "      <td></td>\n",
       "      <td>0</td>\n",
       "      <td>M</td>\n",
       "      <td>0.0</td>\n",
       "      <td>0.00</td>\n",
       "      <td>29.39</td>\n",
       "      <td>30.12</td>\n",
       "      <td>11.7</td>\n",
       "      <td>7</td>\n",
       "      <td>11.9</td>\n",
       "    </tr>\n",
       "  </tbody>\n",
       "</table>\n",
       "<p>5 rows × 22 columns</p>\n",
       "</div>"
      ],
      "text/plain": [
       "   Station        Date  Tmax  Tmin Tavg Depart  DewPoint WetBulb Heat Cool  \\\n",
       "0        1  2007-05-01    83    50   67     14        51      56    0    2   \n",
       "1        2  2007-05-01    84    52   68      M        51      57    0    3   \n",
       "2        1  2007-05-02    59    42   51     -3        42      47   14    0   \n",
       "3        2  2007-05-02    60    43   52      M        42      47   13    0   \n",
       "4        1  2007-05-03    66    46   56      2        40      48    9    0   \n",
       "\n",
       "   ... CodeSum Depth Water1 SnowFall PrecipTotal StnPressure SeaLevel  \\\n",
       "0  ...             0      M      0.0        0.00       29.10    29.82   \n",
       "1  ...             M      M        M        0.00       29.18    29.82   \n",
       "2  ...      BR     0      M      0.0        0.00       29.38    30.09   \n",
       "3  ...   BR HZ     M      M        M        0.00       29.44    30.08   \n",
       "4  ...             0      M      0.0        0.00       29.39    30.12   \n",
       "\n",
       "  ResultSpeed ResultDir  AvgSpeed  \n",
       "0         1.7        27       9.2  \n",
       "1         2.7        25       9.6  \n",
       "2        13.0         4      13.4  \n",
       "3        13.3         2      13.4  \n",
       "4        11.7         7      11.9  \n",
       "\n",
       "[5 rows x 22 columns]"
      ]
     },
     "execution_count": 4,
     "metadata": {},
     "output_type": "execute_result"
    }
   ],
   "source": [
    "weather.head()"
   ]
  },
  {
   "cell_type": "code",
   "execution_count": 5,
   "metadata": {},
   "outputs": [
    {
     "name": "stdout",
     "output_type": "stream",
     "text": [
      "<class 'pandas.core.frame.DataFrame'>\n",
      "RangeIndex: 2944 entries, 0 to 2943\n",
      "Data columns (total 22 columns):\n",
      " #   Column       Non-Null Count  Dtype  \n",
      "---  ------       --------------  -----  \n",
      " 0   Station      2944 non-null   int64  \n",
      " 1   Date         2944 non-null   object \n",
      " 2   Tmax         2944 non-null   int64  \n",
      " 3   Tmin         2944 non-null   int64  \n",
      " 4   Tavg         2944 non-null   object \n",
      " 5   Depart       2944 non-null   object \n",
      " 6   DewPoint     2944 non-null   int64  \n",
      " 7   WetBulb      2944 non-null   object \n",
      " 8   Heat         2944 non-null   object \n",
      " 9   Cool         2944 non-null   object \n",
      " 10  Sunrise      2944 non-null   object \n",
      " 11  Sunset       2944 non-null   object \n",
      " 12  CodeSum      2944 non-null   object \n",
      " 13  Depth        2944 non-null   object \n",
      " 14  Water1       2944 non-null   object \n",
      " 15  SnowFall     2944 non-null   object \n",
      " 16  PrecipTotal  2944 non-null   object \n",
      " 17  StnPressure  2944 non-null   object \n",
      " 18  SeaLevel     2944 non-null   object \n",
      " 19  ResultSpeed  2944 non-null   float64\n",
      " 20  ResultDir    2944 non-null   int64  \n",
      " 21  AvgSpeed     2944 non-null   object \n",
      "dtypes: float64(1), int64(5), object(16)\n",
      "memory usage: 506.1+ KB\n"
     ]
    }
   ],
   "source": [
    "weather.info()"
   ]
  },
  {
   "cell_type": "code",
   "execution_count": 6,
   "metadata": {},
   "outputs": [
    {
     "data": {
      "text/html": [
       "<div>\n",
       "<style scoped>\n",
       "    .dataframe tbody tr th:only-of-type {\n",
       "        vertical-align: middle;\n",
       "    }\n",
       "\n",
       "    .dataframe tbody tr th {\n",
       "        vertical-align: top;\n",
       "    }\n",
       "\n",
       "    .dataframe thead th {\n",
       "        text-align: right;\n",
       "    }\n",
       "</style>\n",
       "<table border=\"1\" class=\"dataframe\">\n",
       "  <thead>\n",
       "    <tr style=\"text-align: right;\">\n",
       "      <th></th>\n",
       "      <th>count</th>\n",
       "      <th>mean</th>\n",
       "      <th>std</th>\n",
       "      <th>min</th>\n",
       "      <th>25%</th>\n",
       "      <th>50%</th>\n",
       "      <th>75%</th>\n",
       "      <th>max</th>\n",
       "    </tr>\n",
       "  </thead>\n",
       "  <tbody>\n",
       "    <tr>\n",
       "      <th>Station</th>\n",
       "      <td>2944.0</td>\n",
       "      <td>1.500000</td>\n",
       "      <td>0.500085</td>\n",
       "      <td>1.0</td>\n",
       "      <td>1.0</td>\n",
       "      <td>1.5</td>\n",
       "      <td>2.0</td>\n",
       "      <td>2.0</td>\n",
       "    </tr>\n",
       "    <tr>\n",
       "      <th>Tmax</th>\n",
       "      <td>2944.0</td>\n",
       "      <td>76.166101</td>\n",
       "      <td>11.461970</td>\n",
       "      <td>41.0</td>\n",
       "      <td>69.0</td>\n",
       "      <td>78.0</td>\n",
       "      <td>85.0</td>\n",
       "      <td>104.0</td>\n",
       "    </tr>\n",
       "    <tr>\n",
       "      <th>Tmin</th>\n",
       "      <td>2944.0</td>\n",
       "      <td>57.810462</td>\n",
       "      <td>10.381939</td>\n",
       "      <td>29.0</td>\n",
       "      <td>50.0</td>\n",
       "      <td>59.0</td>\n",
       "      <td>66.0</td>\n",
       "      <td>83.0</td>\n",
       "    </tr>\n",
       "    <tr>\n",
       "      <th>DewPoint</th>\n",
       "      <td>2944.0</td>\n",
       "      <td>53.457880</td>\n",
       "      <td>10.675181</td>\n",
       "      <td>22.0</td>\n",
       "      <td>46.0</td>\n",
       "      <td>54.0</td>\n",
       "      <td>62.0</td>\n",
       "      <td>75.0</td>\n",
       "    </tr>\n",
       "    <tr>\n",
       "      <th>ResultSpeed</th>\n",
       "      <td>2944.0</td>\n",
       "      <td>6.960666</td>\n",
       "      <td>3.587527</td>\n",
       "      <td>0.1</td>\n",
       "      <td>4.3</td>\n",
       "      <td>6.4</td>\n",
       "      <td>9.2</td>\n",
       "      <td>24.1</td>\n",
       "    </tr>\n",
       "    <tr>\n",
       "      <th>ResultDir</th>\n",
       "      <td>2944.0</td>\n",
       "      <td>17.494905</td>\n",
       "      <td>10.063609</td>\n",
       "      <td>1.0</td>\n",
       "      <td>7.0</td>\n",
       "      <td>19.0</td>\n",
       "      <td>25.0</td>\n",
       "      <td>36.0</td>\n",
       "    </tr>\n",
       "  </tbody>\n",
       "</table>\n",
       "</div>"
      ],
      "text/plain": [
       "              count       mean        std   min   25%   50%   75%    max\n",
       "Station      2944.0   1.500000   0.500085   1.0   1.0   1.5   2.0    2.0\n",
       "Tmax         2944.0  76.166101  11.461970  41.0  69.0  78.0  85.0  104.0\n",
       "Tmin         2944.0  57.810462  10.381939  29.0  50.0  59.0  66.0   83.0\n",
       "DewPoint     2944.0  53.457880  10.675181  22.0  46.0  54.0  62.0   75.0\n",
       "ResultSpeed  2944.0   6.960666   3.587527   0.1   4.3   6.4   9.2   24.1\n",
       "ResultDir    2944.0  17.494905  10.063609   1.0   7.0  19.0  25.0   36.0"
      ]
     },
     "execution_count": 6,
     "metadata": {},
     "output_type": "execute_result"
    }
   ],
   "source": [
    "weather.describe().T"
   ]
  },
  {
   "cell_type": "markdown",
   "metadata": {},
   "source": [
    "## Station"
   ]
  },
  {
   "cell_type": "markdown",
   "metadata": {},
   "source": [
    "Check null values in each station. Null values are either represented by 'M' or '-'."
   ]
  },
  {
   "cell_type": "code",
   "execution_count": 7,
   "metadata": {},
   "outputs": [],
   "source": [
    "obj_cols = weather.select_dtypes(include=['object']).columns"
   ]
  },
  {
   "cell_type": "code",
   "execution_count": 8,
   "metadata": {},
   "outputs": [
    {
     "name": "stdout",
     "output_type": "stream",
     "text": [
      "Date has 0 missing values at station 1\n",
      "Date has 0 missing values at station 2\n",
      "\n",
      "Tavg has 0 missing values at station 1\n",
      "Tavg has 11 missing values at station 2\n",
      "\n",
      "Depart has 0 missing values at station 1\n",
      "Depart has 1472 missing values at station 2\n",
      "\n",
      "WetBulb has 3 missing values at station 1\n",
      "WetBulb has 1 missing values at station 2\n",
      "\n",
      "Heat has 0 missing values at station 1\n",
      "Heat has 11 missing values at station 2\n",
      "\n",
      "Cool has 0 missing values at station 1\n",
      "Cool has 11 missing values at station 2\n",
      "\n",
      "Sunrise has 0 missing values at station 1\n",
      "Sunrise has 1472 missing values at station 2\n",
      "\n",
      "Sunset has 0 missing values at station 1\n",
      "Sunset has 1472 missing values at station 2\n",
      "\n",
      "CodeSum has 0 missing values at station 1\n",
      "CodeSum has 0 missing values at station 2\n",
      "\n",
      "Depth has 0 missing values at station 1\n",
      "Depth has 1472 missing values at station 2\n",
      "\n",
      "Water1 has 1472 missing values at station 1\n",
      "Water1 has 1472 missing values at station 2\n",
      "\n",
      "SnowFall has 0 missing values at station 1\n",
      "SnowFall has 1472 missing values at station 2\n",
      "\n",
      "PrecipTotal has 0 missing values at station 1\n",
      "PrecipTotal has 2 missing values at station 2\n",
      "\n",
      "StnPressure has 2 missing values at station 1\n",
      "StnPressure has 2 missing values at station 2\n",
      "\n",
      "SeaLevel has 5 missing values at station 1\n",
      "SeaLevel has 4 missing values at station 2\n",
      "\n",
      "AvgSpeed has 0 missing values at station 1\n",
      "AvgSpeed has 3 missing values at station 2\n",
      "\n"
     ]
    }
   ],
   "source": [
    "for col in weather[obj_cols]:\n",
    "    station_1 = len(weather[(weather[col].isin(['M','-'])) & (weather.Station==1)])\n",
    "    print(col + ' has ' + str(station_1) + ' missing values at station 1')\n",
    "    station_2 = len(weather[(weather[col].isin(['M','-'])) & (weather.Station==2)])\n",
    "    print(col + ' has ' + str(station_2) + ' missing values at station 2')\n",
    "    print()"
   ]
  },
  {
   "cell_type": "markdown",
   "metadata": {},
   "source": [
    "There are many features which Station 2 does not collect. For example, Station 2 does not have records for Depth, Water1, Sunrise/Sunset etc. From the data dictionary we know that these are the AWOS stations that collect less data than the ASOS stations, which is Station 1. As such, we may elect to simply use data only from station 1. But first we must ensure that data collected from Station 2 is not so different from Station 1 so as to introduce meaningful information about weather.\n",
    "\n",
    "Before that, we will try to impute as much data as we can."
   ]
  },
  {
   "cell_type": "code",
   "execution_count": 9,
   "metadata": {},
   "outputs": [],
   "source": [
    "# first, fix all our 'object' columns by imputing replacing our str values.\n",
    "# these values are either 'M' or '-' for missing, or 'T' for Trace.\n",
    "# Trace values refer to values measured by the sensor that are so small that they cannot show them with sufficient precision\n",
    "# Hence we make the executive decision to set these to 0 instead.\n",
    "\n",
    "weather.replace(['M','-'], np.nan, inplace=True)\n",
    "weather.replace('  T', 0, inplace=True)"
   ]
  },
  {
   "cell_type": "code",
   "execution_count": 10,
   "metadata": {},
   "outputs": [],
   "source": [
    "# Then we cast these columns to float now that they don't contain str values anymore\n",
    "# Leave out Date, Codesum, Sunset and Sunrise for later\n",
    "\n",
    "cols_to_change = weather.select_dtypes('object').drop(columns=['Date','CodeSum','Sunrise','Sunset']).columns\n",
    "for col in cols_to_change:\n",
    "    weather[col] = weather[col].astype(float)"
   ]
  },
  {
   "cell_type": "code",
   "execution_count": 11,
   "metadata": {
    "scrolled": true
   },
   "outputs": [
    {
     "name": "stdout",
     "output_type": "stream",
     "text": [
      "<class 'pandas.core.frame.DataFrame'>\n",
      "RangeIndex: 2944 entries, 0 to 2943\n",
      "Data columns (total 22 columns):\n",
      " #   Column       Non-Null Count  Dtype  \n",
      "---  ------       --------------  -----  \n",
      " 0   Station      2944 non-null   int64  \n",
      " 1   Date         2944 non-null   object \n",
      " 2   Tmax         2944 non-null   int64  \n",
      " 3   Tmin         2944 non-null   int64  \n",
      " 4   Tavg         2933 non-null   float64\n",
      " 5   Depart       1472 non-null   float64\n",
      " 6   DewPoint     2944 non-null   int64  \n",
      " 7   WetBulb      2940 non-null   float64\n",
      " 8   Heat         2933 non-null   float64\n",
      " 9   Cool         2933 non-null   float64\n",
      " 10  Sunrise      1472 non-null   object \n",
      " 11  Sunset       1472 non-null   object \n",
      " 12  CodeSum      2944 non-null   object \n",
      " 13  Depth        1472 non-null   float64\n",
      " 14  Water1       0 non-null      float64\n",
      " 15  SnowFall     1472 non-null   float64\n",
      " 16  PrecipTotal  2942 non-null   float64\n",
      " 17  StnPressure  2940 non-null   float64\n",
      " 18  SeaLevel     2935 non-null   float64\n",
      " 19  ResultSpeed  2944 non-null   float64\n",
      " 20  ResultDir    2944 non-null   int64  \n",
      " 21  AvgSpeed     2941 non-null   float64\n",
      "dtypes: float64(13), int64(5), object(4)\n",
      "memory usage: 506.1+ KB\n"
     ]
    }
   ],
   "source": [
    "# check dtypes\n",
    "weather.info()"
   ]
  },
  {
   "cell_type": "markdown",
   "metadata": {},
   "source": [
    "## `Tavg`\n",
    "We have 11 mising Tavg values. We can easily impute this using Tmax - Tmin. Doing also gives us slightly more precision than the initial interger values of Tavg."
   ]
  },
  {
   "cell_type": "code",
   "execution_count": 12,
   "metadata": {},
   "outputs": [
    {
     "data": {
      "text/plain": [
       "0       66.5\n",
       "1       68.0\n",
       "2       50.5\n",
       "3       51.5\n",
       "4       56.0\n",
       "        ... \n",
       "2939    44.5\n",
       "2940    41.5\n",
       "2941    45.0\n",
       "2942    40.0\n",
       "2943    41.5\n",
       "Length: 2944, dtype: float64"
      ]
     },
     "execution_count": 12,
     "metadata": {},
     "output_type": "execute_result"
    }
   ],
   "source": [
    "(weather['Tmax'] + weather['Tmin']) /2"
   ]
  },
  {
   "cell_type": "code",
   "execution_count": 13,
   "metadata": {},
   "outputs": [],
   "source": [
    "weather['Tavg'] = (weather['Tmax'] + weather['Tmin']) /2"
   ]
  },
  {
   "cell_type": "markdown",
   "metadata": {},
   "source": [
    "## `Heat` and `Cool`\n",
    "Heat measures the difference between `Tavg` and 65 deg F when `Tavg` is below 65, and Cool measures the opposite. Apart from not making sense, we can easily combine these features into 1 heat/cool column that simply measures the signed difference between `Tavg` and 65 deg F."
   ]
  },
  {
   "cell_type": "code",
   "execution_count": 14,
   "metadata": {
    "scrolled": true
   },
   "outputs": [
    {
     "data": {
      "text/plain": [
       "0        1.5\n",
       "1        3.0\n",
       "2      -14.5\n",
       "3      -13.5\n",
       "4       -9.0\n",
       "        ... \n",
       "2939   -20.5\n",
       "2940   -23.5\n",
       "2941   -20.0\n",
       "2942   -25.0\n",
       "2943   -23.5\n",
       "Name: Heat/Cool, Length: 2944, dtype: float64"
      ]
     },
     "execution_count": 14,
     "metadata": {},
     "output_type": "execute_result"
    }
   ],
   "source": [
    "weather['Heat/Cool'] = weather['Tavg'] - 65\n",
    "weather['Heat/Cool']"
   ]
  },
  {
   "cell_type": "code",
   "execution_count": 15,
   "metadata": {},
   "outputs": [],
   "source": [
    "# drop Heat and Cool\n",
    "weather.drop(columns=['Heat','Cool'], inplace=True)"
   ]
  },
  {
   "cell_type": "markdown",
   "metadata": {},
   "source": [
    "## `DewPoint` and `WetBulb`\n",
    "**Wet bulb** temperature essentially measures how much water vapor the atmosphere can hold at current weather conditions. A lower wet bulb temperature means the air is drier and can hold more water vapor than it can at a higher wet bulb temperature.\n",
    "\n",
    "**Dew points** indicate the amount moisture in the air. The higher the dew points, the higher the moisture content of the air at a given temperature.\n",
    "\n",
    "To derive `DewPoint`, first find the dewpoint depression (temperature minus dewpoint). Then take this number and divide by 3. Subtract this number from the temperature."
   ]
  },
  {
   "cell_type": "code",
   "execution_count": 16,
   "metadata": {},
   "outputs": [
    {
     "data": {
      "text/plain": [
       "848    NaN\n",
       "2410   NaN\n",
       "2412   NaN\n",
       "2415   NaN\n",
       "Name: WetBulb, dtype: float64"
      ]
     },
     "execution_count": 16,
     "metadata": {},
     "output_type": "execute_result"
    }
   ],
   "source": [
    "weather.loc[weather['WetBulb'].isna(), 'WetBulb']"
   ]
  },
  {
   "cell_type": "code",
   "execution_count": 17,
   "metadata": {},
   "outputs": [],
   "source": [
    "mask = weather['WetBulb'].isna()\n",
    "weather.loc[weather['WetBulb'].isna(), 'WetBulb'] = weather[mask]['Tavg'] - (weather[mask]['Tavg']-weather[mask]['DewPoint'])/3"
   ]
  },
  {
   "cell_type": "markdown",
   "metadata": {},
   "source": [
    "## `SeaLevel` , `StnPressure` and `AvgSpeed` \n",
    "There's no logical imputation to be done for these, so we leave them as np.nan first. We can use SimpleImputer later on after we train test split."
   ]
  },
  {
   "cell_type": "code",
   "execution_count": 18,
   "metadata": {},
   "outputs": [
    {
     "name": "stdout",
     "output_type": "stream",
     "text": [
      "<class 'pandas.core.frame.DataFrame'>\n",
      "RangeIndex: 2944 entries, 0 to 2943\n",
      "Data columns (total 21 columns):\n",
      " #   Column       Non-Null Count  Dtype  \n",
      "---  ------       --------------  -----  \n",
      " 0   Station      2944 non-null   int64  \n",
      " 1   Date         2944 non-null   object \n",
      " 2   Tmax         2944 non-null   int64  \n",
      " 3   Tmin         2944 non-null   int64  \n",
      " 4   Tavg         2944 non-null   float64\n",
      " 5   Depart       1472 non-null   float64\n",
      " 6   DewPoint     2944 non-null   int64  \n",
      " 7   WetBulb      2944 non-null   float64\n",
      " 8   Sunrise      1472 non-null   object \n",
      " 9   Sunset       1472 non-null   object \n",
      " 10  CodeSum      2944 non-null   object \n",
      " 11  Depth        1472 non-null   float64\n",
      " 12  Water1       0 non-null      float64\n",
      " 13  SnowFall     1472 non-null   float64\n",
      " 14  PrecipTotal  2942 non-null   float64\n",
      " 15  StnPressure  2940 non-null   float64\n",
      " 16  SeaLevel     2935 non-null   float64\n",
      " 17  ResultSpeed  2944 non-null   float64\n",
      " 18  ResultDir    2944 non-null   int64  \n",
      " 19  AvgSpeed     2941 non-null   float64\n",
      " 20  Heat/Cool    2944 non-null   float64\n",
      "dtypes: float64(12), int64(5), object(4)\n",
      "memory usage: 483.1+ KB\n"
     ]
    }
   ],
   "source": [
    "# check df\n",
    "weather.info()"
   ]
  },
  {
   "cell_type": "markdown",
   "metadata": {},
   "source": [
    "## Hypothesis Testing\n",
    "Since we have quite a few features missing from Station 2, it might be simpler to use Station 1's data only. However, we need to ensure that the data for each feature is not significantly different between stations.\n",
    "\n",
    "TO do this, we'll split our data into Station 1 and Station 2, and perform a T-test on each feature to see if Station 1's data is different from Station 2's data. We'll use an alpha level of 0.01 to reject our null hypothesis that data from Station 1 is not different than data from Station 2."
   ]
  },
  {
   "cell_type": "code",
   "execution_count": 19,
   "metadata": {
    "scrolled": false
   },
   "outputs": [
    {
     "name": "stdout",
     "output_type": "stream",
     "text": [
      "T-test p value for Station is 0.0\n",
      "Could not do T-test for Date\n",
      "T-test p value for Tmax is 0.3757186883686098\n",
      "T-test p value for Tmin is 1.5534153620432908e-08\n",
      "T-test p value for Tavg is 0.0010971650075739226\n",
      "T-test p value for Depart is 0.0\n",
      "T-test p value for DewPoint is 0.6837540058676679\n",
      "T-test p value for WetBulb is 0.1160927558963912\n",
      "Could not do T-test for Sunrise\n",
      "Could not do T-test for Sunset\n",
      "Could not do T-test for CodeSum\n",
      "T-test p value for Depth is 0.0\n",
      "T-test p value for Water1 is 0.0\n",
      "T-test p value for SnowFall is 0.0\n",
      "T-test p value for PrecipTotal is 0.6579669603657681\n",
      "T-test p value for StnPressure is 1.80989826166576e-25\n",
      "T-test p value for SeaLevel is 0.11062800887582602\n",
      "T-test p value for ResultSpeed is 0.6894611884754007\n",
      "T-test p value for ResultDir is 0.3844438924103951\n",
      "T-test p value for AvgSpeed is 0.8676908576839891\n",
      "T-test p value for Heat/Cool is 0.0010971650075738688\n"
     ]
    },
    {
     "name": "stderr",
     "output_type": "stream",
     "text": [
      "C:\\ProgramData\\Anaconda3\\lib\\site-packages\\scipy\\stats\\mstats_basic.py:1070: RuntimeWarning: divide by zero encountered in true_divide\n",
      "  denom = ma.sqrt(svar*(1.0/n1 + 1.0/n2))  # n-D computation here!\n"
     ]
    }
   ],
   "source": [
    "stn1 = weather[weather['Station']==1]\n",
    "stn2 = weather[weather['Station']==2]\n",
    "\n",
    "for col in stn1.columns:\n",
    "    try:\n",
    "        print('T-test p value for {} is {}'.format(col, ttest_ind(stn1[col],stn2[col], nan_policy='omit')[1]))\n",
    "    except:\n",
    "        print('Could not do T-test for {}'.format(col))"
   ]
  },
  {
   "cell_type": "markdown",
   "metadata": {},
   "source": [
    "From this, we see that we reject the null hypothesis for Tmin, Tavg, Cool, and StnPressure. Let's make some boxplots to visually inspect their differences."
   ]
  },
  {
   "cell_type": "code",
   "execution_count": 20,
   "metadata": {},
   "outputs": [
    {
     "data": {
      "image/png": "[encoded data removed]",
      "text/plain": [
       "<Figure size 864x720 with 4 Axes>"
      ]
     },
     "metadata": {
      "needs_background": "light"
     },
     "output_type": "display_data"
    }
   ],
   "source": [
    "fig, ax = plt.subplots(2,2,figsize=(12,10))\n",
    "ax = ax.ravel()\n",
    "for n, col in enumerate(['Tmin','Tavg','Heat/Cool','StnPressure']):\n",
    "    g = sns.boxplot(data=weather, x='Station', y=col, ax=ax[n])\n",
    "    g.set_title(col)\n",
    "plt.tight_layout();"
   ]
  },
  {
   "cell_type": "markdown",
   "metadata": {},
   "source": [
    "Visually, these variables actually don't look that far off from each other. Perhaps StnPressure is the most significantly different, but the scale of the difference itself is very small. \n",
    "\n",
    "For the rest of our data, we will stick to using the data from Station 1 only. For these 4 features, we will use the mean of Station 1 and 2's data as our new aggregate features. However, since Tavg is a derived from Tmax and Tmin, and subsequently Heat/Cool from Tavg, we will take the mean of Tmin between Stations, and calculate Tavg and Heat/Cool from there again."
   ]
  },
  {
   "cell_type": "code",
   "execution_count": 21,
   "metadata": {},
   "outputs": [],
   "source": [
    "stn1 = weather[weather['Station']==1].copy().reset_index(drop=True)\n",
    "stn2 = weather[weather['Station']==2].copy().reset_index(drop=True)\n"
   ]
  },
  {
   "cell_type": "code",
   "execution_count": 22,
   "metadata": {},
   "outputs": [
    {
     "name": "stdout",
     "output_type": "stream",
     "text": [
      "<class 'pandas.core.frame.DataFrame'>\n",
      "RangeIndex: 1472 entries, 0 to 1471\n",
      "Data columns (total 21 columns):\n",
      " #   Column       Non-Null Count  Dtype  \n",
      "---  ------       --------------  -----  \n",
      " 0   Station      1472 non-null   int64  \n",
      " 1   Date         1472 non-null   object \n",
      " 2   Tmax         1472 non-null   int64  \n",
      " 3   Tmin         1472 non-null   float64\n",
      " 4   Tavg         1472 non-null   float64\n",
      " 5   Depart       1472 non-null   float64\n",
      " 6   DewPoint     1472 non-null   int64  \n",
      " 7   WetBulb      1472 non-null   float64\n",
      " 8   Sunrise      1472 non-null   object \n",
      " 9   Sunset       1472 non-null   object \n",
      " 10  CodeSum      1472 non-null   object \n",
      " 11  Depth        1472 non-null   float64\n",
      " 12  Water1       0 non-null      float64\n",
      " 13  SnowFall     1472 non-null   float64\n",
      " 14  PrecipTotal  1472 non-null   float64\n",
      " 15  StnPressure  1469 non-null   float64\n",
      " 16  SeaLevel     1467 non-null   float64\n",
      " 17  ResultSpeed  1472 non-null   float64\n",
      " 18  ResultDir    1472 non-null   int64  \n",
      " 19  AvgSpeed     1472 non-null   float64\n",
      " 20  Heat/Cool    1472 non-null   float64\n",
      "dtypes: float64(13), int64(4), object(4)\n",
      "memory usage: 241.6+ KB\n"
     ]
    }
   ],
   "source": [
    "new_wx = weather[weather['Station']==1].copy().reset_index(drop=True)\n",
    "new_wx['StnPressure'] = (stn1['StnPressure'] + stn2['StnPressure'])/2\n",
    "new_wx['Tmin'] = (stn1['Tmin'] + stn2['Tmin']) / 2\n",
    "new_wx['Tavg'] = (new_wx['Tmax'] + new_wx['Tmin']) / 2\n",
    "new_wx['Heat/Cool'] = new_wx['Tavg'] - 65\n",
    "new_wx.info()\n"
   ]
  },
  {
   "cell_type": "markdown",
   "metadata": {},
   "source": [
    "Change our Date to datetime format, then set as index."
   ]
  },
  {
   "cell_type": "code",
   "execution_count": 23,
   "metadata": {},
   "outputs": [],
   "source": [
    "new_wx['Date'] = pd.to_datetime(new_wx['Date'])\n",
    "new_wx.set_index('Date', inplace=True)"
   ]
  },
  {
   "cell_type": "code",
   "execution_count": 24,
   "metadata": {},
   "outputs": [
    {
     "data": {
      "image/png": "[encoded data removed]",
      "text/plain": [
       "<Figure size 864x864 with 20 Axes>"
      ]
     },
     "metadata": {
      "needs_background": "light"
     },
     "output_type": "display_data"
    }
   ],
   "source": [
    "new_wx.hist(figsize=(12,12))\n",
    "plt.tight_layout();"
   ]
  },
  {
   "cell_type": "markdown",
   "metadata": {},
   "source": [
    "Drop Station, Depth, Water1, and SnowFall as they have no values or are almost all 0."
   ]
  },
  {
   "cell_type": "code",
   "execution_count": 25,
   "metadata": {},
   "outputs": [],
   "source": [
    "new_wx.drop(columns=['Station','Depth','Water1','SnowFall'], inplace=True)"
   ]
  },
  {
   "cell_type": "markdown",
   "metadata": {},
   "source": [
    "## `Sunrise` and `Sunset`\n",
    "These features currently list sunrise/set timings as 'hhmm' formatted string. Let's convert this to an actual datetime object, then use them to calculate the total hours of sunlight in a day as a timedelta.\n",
    "\n",
    "There are some erroneous values in Sunset like 1760 and 1860, which obviously should be 1800 and 1900 respectively. pd.to_datetime is unable to deal with this so we fix these values first before proceeding."
   ]
  },
  {
   "cell_type": "code",
   "execution_count": 26,
   "metadata": {},
   "outputs": [],
   "source": [
    "def timefix(x):\n",
    "    hh = x[:2]\n",
    "    mm = x[2:]\n",
    "    if mm == '60':\n",
    "        hh = str(int(hh) + 1)\n",
    "        return hh+'00'\n",
    "    else:\n",
    "        return x\n"
   ]
  },
  {
   "cell_type": "code",
   "execution_count": 27,
   "metadata": {},
   "outputs": [],
   "source": [
    "new_wx['Sunset'] = new_wx['Sunset'].map(timefix)\n",
    "# new_wx['Sunset'].astype(int).astype(str).value_counts()"
   ]
  },
  {
   "cell_type": "code",
   "execution_count": 28,
   "metadata": {},
   "outputs": [],
   "source": [
    "# convert Sunrise and Sunset into datetime using the dataframe index as well.\n",
    "new_wx['sunset'] = pd.to_datetime(new_wx.index.astype(str) + ' ' + new_wx['Sunset'], format='%Y-%m-%d %H%M')\n",
    "new_wx['sunrise'] = pd.to_datetime(new_wx.index.astype(str) + ' ' + new_wx['Sunrise'], format='%Y-%m-%d %H%M')"
   ]
  },
  {
   "cell_type": "code",
   "execution_count": 29,
   "metadata": {},
   "outputs": [],
   "source": [
    "# create timedeltas from sunset and sunrise to serve as total sunlight hours per day\n",
    "new_wx['SunHours'] = new_wx['sunset'] - new_wx['sunrise']"
   ]
  },
  {
   "cell_type": "code",
   "execution_count": 30,
   "metadata": {
    "scrolled": true
   },
   "outputs": [],
   "source": [
    "new_wx['SunHours'].map(lambda x: x.total_seconds()/60)\n",
    "new_wx['SunHours'] = new_wx['SunHours'].map(lambda x: x.total_seconds()/60)"
   ]
  },
  {
   "cell_type": "markdown",
   "metadata": {},
   "source": [
    "## `CodeSum`"
   ]
  },
  {
   "cell_type": "markdown",
   "metadata": {},
   "source": [
    "Meteorological codes tell us what kind of weather there is. We know that mosquitoes breed in water, so we're looking out for days with any kind of rain, as rainy days create ideal breeding conditions."
   ]
  },
  {
   "cell_type": "code",
   "execution_count": 31,
   "metadata": {},
   "outputs": [],
   "source": [
    "# these codes are all related to rain.\n",
    "new_wx['isRainy'] = new_wx['CodeSum'].str.contains(r'TS|RA|DZ|SH').astype(int)"
   ]
  },
  {
   "cell_type": "markdown",
   "metadata": {},
   "source": [
    "## `Humidity`"
   ]
  },
  {
   "cell_type": "code",
   "execution_count": 32,
   "metadata": {},
   "outputs": [],
   "source": [
    "def convert_to_celcius(fahrenheit):\n",
    "    return round((fahrenheit-32) / 1.8, 3)"
   ]
  },
  {
   "cell_type": "code",
   "execution_count": 33,
   "metadata": {},
   "outputs": [],
   "source": [
    "def rel_humidity_calc(dewpoint, temperature):\n",
    "#     saturation_vapor_pressure = (6.11 * 10) ** (7.5 * temperature / (237.7 + temperature))\n",
    "#     actual_vapor_pressure = (6.11 * 10) ** (7.5 * dewpoint / (237.7 + dewpoint))\n",
    "#     rel_humidity = (actual_vapor_pressure / saturation_vapor_pressure)*100\n",
    "\n",
    "    rel_humidity = 100*(np.exp((17.625*dewpoint)/(243.04+dewpoint))/np.exp((17.625*temperature)/(243.04+temperature)))\n",
    "    return round(rel_humidity,2)"
   ]
  },
  {
   "cell_type": "code",
   "execution_count": 34,
   "metadata": {},
   "outputs": [],
   "source": [
    "new_wx['Humidity'] = rel_humidity_calc(new_wx['DewPoint'].map(convert_to_celcius), new_wx['Tavg'].map(convert_to_celcius))"
   ]
  },
  {
   "cell_type": "markdown",
   "metadata": {},
   "source": [
    "# Train.csv"
   ]
  },
  {
   "cell_type": "code",
   "execution_count": 35,
   "metadata": {},
   "outputs": [],
   "source": [
    "train['Date'] = pd.to_datetime(train['Date'])"
   ]
  },
  {
   "cell_type": "code",
   "execution_count": 37,
   "metadata": {},
   "outputs": [],
   "source": [
    "train_new = train.groupby(['Date','Trap', 'Latitude', 'Longitude', 'Species']).sum()\n",
    "train_new = train_new.reset_index()"
   ]
  },
  {
   "cell_type": "code",
   "execution_count": 38,
   "metadata": {},
   "outputs": [],
   "source": [
    "train_new['WnvPresent'] = train_new['WnvPresent'].map(lambda x : 1 if x > 0 else x)"
   ]
  },
  {
   "cell_type": "code",
   "execution_count": 39,
   "metadata": {},
   "outputs": [],
   "source": [
    "train_merged = train_new.merge(new_wx.reset_index(), on='Date', how='left')"
   ]
  },
  {
   "cell_type": "code",
   "execution_count": 40,
   "metadata": {},
   "outputs": [
    {
     "data": {
      "text/plain": [
       "(8475, 9)"
      ]
     },
     "execution_count": 40,
     "metadata": {},
     "output_type": "execute_result"
    }
   ],
   "source": [
    "train_new.shape"
   ]
  },
  {
   "cell_type": "code",
   "execution_count": 41,
   "metadata": {},
   "outputs": [
    {
     "data": {
      "text/plain": [
       "(8475, 30)"
      ]
     },
     "execution_count": 41,
     "metadata": {},
     "output_type": "execute_result"
    }
   ],
   "source": [
    "train_merged.shape\n"
   ]
  },
  {
   "cell_type": "markdown",
   "metadata": {},
   "source": [
    "# Test.csv"
   ]
  },
  {
   "cell_type": "code",
   "execution_count": 43,
   "metadata": {},
   "outputs": [],
   "source": [
    "test['Date'] = pd.to_datetime(test['Date'])"
   ]
  },
  {
   "cell_type": "code",
   "execution_count": 46,
   "metadata": {},
   "outputs": [],
   "source": [
    "test_merged = test.merge(new_wx.reset_index(), on='Date', how='left')"
   ]
  },
  {
   "cell_type": "code",
   "execution_count": 47,
   "metadata": {},
   "outputs": [
    {
     "data": {
      "text/plain": [
       "Index(['Id', 'Date', 'Address', 'Species', 'Block', 'Street', 'Trap',\n",
       "       'AddressNumberAndStreet', 'Latitude', 'Longitude', 'AddressAccuracy',\n",
       "       'Tmax', 'Tmin', 'Tavg', 'Depart', 'DewPoint', 'WetBulb', 'Sunrise',\n",
       "       'Sunset', 'CodeSum', 'PrecipTotal', 'StnPressure', 'SeaLevel',\n",
       "       'ResultSpeed', 'ResultDir', 'AvgSpeed', 'Heat/Cool', 'sunset',\n",
       "       'sunrise', 'SunHours', 'isRainy', 'Humidity'],\n",
       "      dtype='object')"
      ]
     },
     "execution_count": 47,
     "metadata": {},
     "output_type": "execute_result"
    }
   ],
   "source": [
    "test_merged.columns"
   ]
  },
  {
   "cell_type": "code",
   "execution_count": 48,
   "metadata": {},
   "outputs": [
    {
     "data": {
      "text/plain": [
       "Index(['Date', 'Trap', 'Latitude', 'Longitude', 'Species', 'Block',\n",
       "       'AddressAccuracy', 'NumMosquitos', 'WnvPresent', 'Tmax', 'Tmin', 'Tavg',\n",
       "       'Depart', 'DewPoint', 'WetBulb', 'Sunrise', 'Sunset', 'CodeSum',\n",
       "       'PrecipTotal', 'StnPressure', 'SeaLevel', 'ResultSpeed', 'ResultDir',\n",
       "       'AvgSpeed', 'Heat/Cool', 'sunset', 'sunrise', 'SunHours', 'isRainy',\n",
       "       'Humidity'],\n",
       "      dtype='object')"
      ]
     },
     "execution_count": 48,
     "metadata": {},
     "output_type": "execute_result"
    }
   ],
   "source": [
    "train_merged.columns"
   ]
  },
  {
   "cell_type": "code",
   "execution_count": 49,
   "metadata": {},
   "outputs": [],
   "source": [
    "test_merged = test_merged.drop(columns=['Address', 'Street', 'AddressNumberAndStreet'])"
   ]
  },
  {
   "cell_type": "markdown",
   "metadata": {},
   "source": [
    "# Spray.csv"
   ]
  },
  {
   "cell_type": "code",
   "execution_count": 50,
   "metadata": {},
   "outputs": [
    {
     "data": {
      "text/html": [
       "<div>\n",
       "<style scoped>\n",
       "    .dataframe tbody tr th:only-of-type {\n",
       "        vertical-align: middle;\n",
       "    }\n",
       "\n",
       "    .dataframe tbody tr th {\n",
       "        vertical-align: top;\n",
       "    }\n",
       "\n",
       "    .dataframe thead th {\n",
       "        text-align: right;\n",
       "    }\n",
       "</style>\n",
       "<table border=\"1\" class=\"dataframe\">\n",
       "  <thead>\n",
       "    <tr style=\"text-align: right;\">\n",
       "      <th></th>\n",
       "      <th>Date</th>\n",
       "      <th>Time</th>\n",
       "      <th>Latitude</th>\n",
       "      <th>Longitude</th>\n",
       "    </tr>\n",
       "  </thead>\n",
       "  <tbody>\n",
       "    <tr>\n",
       "      <th>0</th>\n",
       "      <td>2011-08-29</td>\n",
       "      <td>6:56:58 PM</td>\n",
       "      <td>42.391623</td>\n",
       "      <td>-88.089163</td>\n",
       "    </tr>\n",
       "    <tr>\n",
       "      <th>1</th>\n",
       "      <td>2011-08-29</td>\n",
       "      <td>6:57:08 PM</td>\n",
       "      <td>42.391348</td>\n",
       "      <td>-88.089163</td>\n",
       "    </tr>\n",
       "    <tr>\n",
       "      <th>2</th>\n",
       "      <td>2011-08-29</td>\n",
       "      <td>6:57:18 PM</td>\n",
       "      <td>42.391022</td>\n",
       "      <td>-88.089157</td>\n",
       "    </tr>\n",
       "    <tr>\n",
       "      <th>3</th>\n",
       "      <td>2011-08-29</td>\n",
       "      <td>6:57:28 PM</td>\n",
       "      <td>42.390637</td>\n",
       "      <td>-88.089158</td>\n",
       "    </tr>\n",
       "    <tr>\n",
       "      <th>4</th>\n",
       "      <td>2011-08-29</td>\n",
       "      <td>6:57:38 PM</td>\n",
       "      <td>42.390410</td>\n",
       "      <td>-88.088858</td>\n",
       "    </tr>\n",
       "  </tbody>\n",
       "</table>\n",
       "</div>"
      ],
      "text/plain": [
       "         Date        Time   Latitude  Longitude\n",
       "0  2011-08-29  6:56:58 PM  42.391623 -88.089163\n",
       "1  2011-08-29  6:57:08 PM  42.391348 -88.089163\n",
       "2  2011-08-29  6:57:18 PM  42.391022 -88.089157\n",
       "3  2011-08-29  6:57:28 PM  42.390637 -88.089158\n",
       "4  2011-08-29  6:57:38 PM  42.390410 -88.088858"
      ]
     },
     "execution_count": 50,
     "metadata": {},
     "output_type": "execute_result"
    }
   ],
   "source": [
    "spray.head()"
   ]
  },
  {
   "cell_type": "markdown",
   "metadata": {},
   "source": [
    "We observed number of observations without time"
   ]
  },
  {
   "cell_type": "code",
   "execution_count": 51,
   "metadata": {},
   "outputs": [
    {
     "data": {
      "text/plain": [
       "Date           0\n",
       "Time         584\n",
       "Latitude       0\n",
       "Longitude      0\n",
       "dtype: int64"
      ]
     },
     "execution_count": 51,
     "metadata": {},
     "output_type": "execute_result"
    }
   ],
   "source": [
    "spray.isnull().sum()"
   ]
  },
  {
   "cell_type": "markdown",
   "metadata": {},
   "source": [
    "All the nulls look to be coming from '2011-09-07'"
   ]
  },
  {
   "cell_type": "code",
   "execution_count": 52,
   "metadata": {},
   "outputs": [
    {
     "data": {
      "text/html": [
       "<div>\n",
       "<style scoped>\n",
       "    .dataframe tbody tr th:only-of-type {\n",
       "        vertical-align: middle;\n",
       "    }\n",
       "\n",
       "    .dataframe tbody tr th {\n",
       "        vertical-align: top;\n",
       "    }\n",
       "\n",
       "    .dataframe thead th {\n",
       "        text-align: right;\n",
       "    }\n",
       "</style>\n",
       "<table border=\"1\" class=\"dataframe\">\n",
       "  <thead>\n",
       "    <tr style=\"text-align: right;\">\n",
       "      <th></th>\n",
       "      <th>Time</th>\n",
       "      <th>Latitude</th>\n",
       "      <th>Longitude</th>\n",
       "    </tr>\n",
       "    <tr>\n",
       "      <th>Date</th>\n",
       "      <th></th>\n",
       "      <th></th>\n",
       "      <th></th>\n",
       "    </tr>\n",
       "  </thead>\n",
       "  <tbody>\n",
       "    <tr>\n",
       "      <th>2011-09-07</th>\n",
       "      <td>0</td>\n",
       "      <td>584</td>\n",
       "      <td>584</td>\n",
       "    </tr>\n",
       "  </tbody>\n",
       "</table>\n",
       "</div>"
      ],
      "text/plain": [
       "            Time  Latitude  Longitude\n",
       "Date                                 \n",
       "2011-09-07     0       584        584"
      ]
     },
     "execution_count": 52,
     "metadata": {},
     "output_type": "execute_result"
    }
   ],
   "source": [
    "spray[spray['Time'].isnull()].groupby('Date').count()"
   ]
  },
  {
   "cell_type": "code",
   "execution_count": 53,
   "metadata": {},
   "outputs": [
    {
     "data": {
      "text/html": [
       "<div>\n",
       "<style scoped>\n",
       "    .dataframe tbody tr th:only-of-type {\n",
       "        vertical-align: middle;\n",
       "    }\n",
       "\n",
       "    .dataframe tbody tr th {\n",
       "        vertical-align: top;\n",
       "    }\n",
       "\n",
       "    .dataframe thead th {\n",
       "        text-align: right;\n",
       "    }\n",
       "</style>\n",
       "<table border=\"1\" class=\"dataframe\">\n",
       "  <thead>\n",
       "    <tr style=\"text-align: right;\">\n",
       "      <th></th>\n",
       "      <th>Date</th>\n",
       "      <th>Time</th>\n",
       "      <th>Latitude</th>\n",
       "      <th>Longitude</th>\n",
       "    </tr>\n",
       "  </thead>\n",
       "  <tbody>\n",
       "    <tr>\n",
       "      <th>484</th>\n",
       "      <td>2011-09-07</td>\n",
       "      <td>7:43:40 PM</td>\n",
       "      <td>41.983917</td>\n",
       "      <td>-87.793088</td>\n",
       "    </tr>\n",
       "    <tr>\n",
       "      <th>485</th>\n",
       "      <td>2011-09-07</td>\n",
       "      <td>7:43:40 PM</td>\n",
       "      <td>41.983917</td>\n",
       "      <td>-87.793088</td>\n",
       "    </tr>\n",
       "    <tr>\n",
       "      <th>489</th>\n",
       "      <td>2011-09-07</td>\n",
       "      <td>7:44:32 PM</td>\n",
       "      <td>41.986460</td>\n",
       "      <td>-87.794225</td>\n",
       "    </tr>\n",
       "    <tr>\n",
       "      <th>490</th>\n",
       "      <td>2011-09-07</td>\n",
       "      <td>7:44:32 PM</td>\n",
       "      <td>41.986460</td>\n",
       "      <td>-87.794225</td>\n",
       "    </tr>\n",
       "    <tr>\n",
       "      <th>491</th>\n",
       "      <td>2011-09-07</td>\n",
       "      <td>7:44:32 PM</td>\n",
       "      <td>41.986460</td>\n",
       "      <td>-87.794225</td>\n",
       "    </tr>\n",
       "    <tr>\n",
       "      <th>...</th>\n",
       "      <td>...</td>\n",
       "      <td>...</td>\n",
       "      <td>...</td>\n",
       "      <td>...</td>\n",
       "    </tr>\n",
       "    <tr>\n",
       "      <th>1025</th>\n",
       "      <td>2011-09-07</td>\n",
       "      <td>7:44:32 PM</td>\n",
       "      <td>41.986460</td>\n",
       "      <td>-87.794225</td>\n",
       "    </tr>\n",
       "    <tr>\n",
       "      <th>1026</th>\n",
       "      <td>2011-09-07</td>\n",
       "      <td>7:44:32 PM</td>\n",
       "      <td>41.986460</td>\n",
       "      <td>-87.794225</td>\n",
       "    </tr>\n",
       "    <tr>\n",
       "      <th>1027</th>\n",
       "      <td>2011-09-07</td>\n",
       "      <td>7:44:32 PM</td>\n",
       "      <td>41.986460</td>\n",
       "      <td>-87.794225</td>\n",
       "    </tr>\n",
       "    <tr>\n",
       "      <th>1028</th>\n",
       "      <td>2011-09-07</td>\n",
       "      <td>7:44:32 PM</td>\n",
       "      <td>41.986460</td>\n",
       "      <td>-87.794225</td>\n",
       "    </tr>\n",
       "    <tr>\n",
       "      <th>1029</th>\n",
       "      <td>2011-09-07</td>\n",
       "      <td>7:44:32 PM</td>\n",
       "      <td>41.986460</td>\n",
       "      <td>-87.794225</td>\n",
       "    </tr>\n",
       "  </tbody>\n",
       "</table>\n",
       "<p>543 rows × 4 columns</p>\n",
       "</div>"
      ],
      "text/plain": [
       "            Date        Time   Latitude  Longitude\n",
       "484   2011-09-07  7:43:40 PM  41.983917 -87.793088\n",
       "485   2011-09-07  7:43:40 PM  41.983917 -87.793088\n",
       "489   2011-09-07  7:44:32 PM  41.986460 -87.794225\n",
       "490   2011-09-07  7:44:32 PM  41.986460 -87.794225\n",
       "491   2011-09-07  7:44:32 PM  41.986460 -87.794225\n",
       "...          ...         ...        ...        ...\n",
       "1025  2011-09-07  7:44:32 PM  41.986460 -87.794225\n",
       "1026  2011-09-07  7:44:32 PM  41.986460 -87.794225\n",
       "1027  2011-09-07  7:44:32 PM  41.986460 -87.794225\n",
       "1028  2011-09-07  7:44:32 PM  41.986460 -87.794225\n",
       "1029  2011-09-07  7:44:32 PM  41.986460 -87.794225\n",
       "\n",
       "[543 rows x 4 columns]"
      ]
     },
     "execution_count": 53,
     "metadata": {},
     "output_type": "execute_result"
    }
   ],
   "source": [
    "spray[spray.duplicated(keep=False)]"
   ]
  },
  {
   "cell_type": "code",
   "execution_count": 54,
   "metadata": {},
   "outputs": [
    {
     "data": {
      "text/html": [
       "<div>\n",
       "<style scoped>\n",
       "    .dataframe tbody tr th:only-of-type {\n",
       "        vertical-align: middle;\n",
       "    }\n",
       "\n",
       "    .dataframe tbody tr th {\n",
       "        vertical-align: top;\n",
       "    }\n",
       "\n",
       "    .dataframe thead th {\n",
       "        text-align: right;\n",
       "    }\n",
       "</style>\n",
       "<table border=\"1\" class=\"dataframe\">\n",
       "  <thead>\n",
       "    <tr style=\"text-align: right;\">\n",
       "      <th></th>\n",
       "      <th>Date</th>\n",
       "      <th>Time</th>\n",
       "      <th>Latitude</th>\n",
       "      <th>Longitude</th>\n",
       "    </tr>\n",
       "  </thead>\n",
       "  <tbody>\n",
       "    <tr>\n",
       "      <th>489</th>\n",
       "      <td>2011-09-07</td>\n",
       "      <td>7:44:32 PM</td>\n",
       "      <td>41.98646</td>\n",
       "      <td>-87.794225</td>\n",
       "    </tr>\n",
       "    <tr>\n",
       "      <th>490</th>\n",
       "      <td>2011-09-07</td>\n",
       "      <td>7:44:32 PM</td>\n",
       "      <td>41.98646</td>\n",
       "      <td>-87.794225</td>\n",
       "    </tr>\n",
       "    <tr>\n",
       "      <th>491</th>\n",
       "      <td>2011-09-07</td>\n",
       "      <td>7:44:32 PM</td>\n",
       "      <td>41.98646</td>\n",
       "      <td>-87.794225</td>\n",
       "    </tr>\n",
       "    <tr>\n",
       "      <th>492</th>\n",
       "      <td>2011-09-07</td>\n",
       "      <td>7:44:32 PM</td>\n",
       "      <td>41.98646</td>\n",
       "      <td>-87.794225</td>\n",
       "    </tr>\n",
       "    <tr>\n",
       "      <th>493</th>\n",
       "      <td>2011-09-07</td>\n",
       "      <td>7:44:32 PM</td>\n",
       "      <td>41.98646</td>\n",
       "      <td>-87.794225</td>\n",
       "    </tr>\n",
       "    <tr>\n",
       "      <th>...</th>\n",
       "      <td>...</td>\n",
       "      <td>...</td>\n",
       "      <td>...</td>\n",
       "      <td>...</td>\n",
       "    </tr>\n",
       "    <tr>\n",
       "      <th>1025</th>\n",
       "      <td>2011-09-07</td>\n",
       "      <td>7:44:32 PM</td>\n",
       "      <td>41.98646</td>\n",
       "      <td>-87.794225</td>\n",
       "    </tr>\n",
       "    <tr>\n",
       "      <th>1026</th>\n",
       "      <td>2011-09-07</td>\n",
       "      <td>7:44:32 PM</td>\n",
       "      <td>41.98646</td>\n",
       "      <td>-87.794225</td>\n",
       "    </tr>\n",
       "    <tr>\n",
       "      <th>1027</th>\n",
       "      <td>2011-09-07</td>\n",
       "      <td>7:44:32 PM</td>\n",
       "      <td>41.98646</td>\n",
       "      <td>-87.794225</td>\n",
       "    </tr>\n",
       "    <tr>\n",
       "      <th>1028</th>\n",
       "      <td>2011-09-07</td>\n",
       "      <td>7:44:32 PM</td>\n",
       "      <td>41.98646</td>\n",
       "      <td>-87.794225</td>\n",
       "    </tr>\n",
       "    <tr>\n",
       "      <th>1029</th>\n",
       "      <td>2011-09-07</td>\n",
       "      <td>7:44:32 PM</td>\n",
       "      <td>41.98646</td>\n",
       "      <td>-87.794225</td>\n",
       "    </tr>\n",
       "  </tbody>\n",
       "</table>\n",
       "<p>541 rows × 4 columns</p>\n",
       "</div>"
      ],
      "text/plain": [
       "            Date        Time  Latitude  Longitude\n",
       "489   2011-09-07  7:44:32 PM  41.98646 -87.794225\n",
       "490   2011-09-07  7:44:32 PM  41.98646 -87.794225\n",
       "491   2011-09-07  7:44:32 PM  41.98646 -87.794225\n",
       "492   2011-09-07  7:44:32 PM  41.98646 -87.794225\n",
       "493   2011-09-07  7:44:32 PM  41.98646 -87.794225\n",
       "...          ...         ...       ...        ...\n",
       "1025  2011-09-07  7:44:32 PM  41.98646 -87.794225\n",
       "1026  2011-09-07  7:44:32 PM  41.98646 -87.794225\n",
       "1027  2011-09-07  7:44:32 PM  41.98646 -87.794225\n",
       "1028  2011-09-07  7:44:32 PM  41.98646 -87.794225\n",
       "1029  2011-09-07  7:44:32 PM  41.98646 -87.794225\n",
       "\n",
       "[541 rows x 4 columns]"
      ]
     },
     "execution_count": 54,
     "metadata": {},
     "output_type": "execute_result"
    }
   ],
   "source": [
    "spray[(spray['Date'] == '2011-09-07') & (spray['Time'] == '7:44:32 PM')]"
   ]
  },
  {
   "cell_type": "markdown",
   "metadata": {},
   "source": [
    "Looks like these are errorneous, we'll go ahead and drop duplicates"
   ]
  },
  {
   "cell_type": "code",
   "execution_count": 55,
   "metadata": {},
   "outputs": [
    {
     "data": {
      "text/plain": [
       "(14835, 4)"
      ]
     },
     "execution_count": 55,
     "metadata": {},
     "output_type": "execute_result"
    }
   ],
   "source": [
    "spray.shape"
   ]
  },
  {
   "cell_type": "code",
   "execution_count": 56,
   "metadata": {},
   "outputs": [],
   "source": [
    "spray = spray.drop_duplicates()"
   ]
  },
  {
   "cell_type": "code",
   "execution_count": 57,
   "metadata": {},
   "outputs": [
    {
     "data": {
      "text/plain": [
       "(14294, 4)"
      ]
     },
     "execution_count": 57,
     "metadata": {},
     "output_type": "execute_result"
    }
   ],
   "source": [
    "spray.shape"
   ]
  },
  {
   "cell_type": "markdown",
   "metadata": {},
   "source": [
    "# Export"
   ]
  },
  {
   "cell_type": "markdown",
   "metadata": {},
   "source": [
    "Remaining null values are to be imputed after train test split by fitting SimpleImputer on the train set, then transforming both the train and test sets."
   ]
  },
  {
   "cell_type": "code",
   "execution_count": 58,
   "metadata": {},
   "outputs": [],
   "source": [
    "new_wx.to_csv('../data_clean/weather.csv')\n",
    "train_merged.to_csv('../data_clean/train.csv', index=False)\n",
    "test_merged.to_csv('../data_clean/test.csv', index=False)\n",
    "spray.to_csv('../data_clean/spray.csv', index=False)"
   ]
  }
 ],
 "metadata": {
  "kernelspec": {
   "display_name": "Python 3",
   "language": "python",
   "name": "python3"
  },
  "language_info": {
   "codemirror_mode": {
    "name": "ipython",
    "version": 3
   },
   "file_extension": ".py",
   "mimetype": "text/x-python",
   "name": "python",
   "nbconvert_exporter": "python",
   "pygments_lexer": "ipython3",
   "version": "3.7.9"
  },
  "toc": {
   "base_numbering": 1,
   "nav_menu": {},
   "number_sections": true,
   "sideBar": true,
   "skip_h1_title": false,
   "title_cell": "Table of Contents",
   "title_sidebar": "Contents",
   "toc_cell": false,
   "toc_position": {
    "height": "calc(100% - 180px)",
    "left": "10px",
    "top": "150px",
    "width": "307.2px"
   },
   "toc_section_display": true,
   "toc_window_display": true
  }
 },
 "nbformat": 4,
 "nbformat_minor": 4
}
